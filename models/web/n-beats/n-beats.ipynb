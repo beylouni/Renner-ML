{
 "cells": [
  {
   "cell_type": "code",
   "execution_count": 5,
   "metadata": {},
   "outputs": [],
   "source": [
    "def dataPipeline(dataframe):\n",
    "    \"\"\"\n",
    "        Args:\n",
    "            dataframe: Pandas dataframe com os dados de vendas\n",
    "        Return:\n",
    "            df_web: dataframe com os dados necessários para previsão das lojas web\n",
    "            df_fisica: dataframe com os dados necessários para previsão das lojas fisicas\n",
    "        OBS:\n",
    "            Para previsão de séries temporais, após chamar o metodo e receber os novos dataframes, é preciso transformar\n",
    "            a coluna 'data_semana_comercial' em datetime novamente e coloca-lá como index do df.\n",
    "        OBS2:\n",
    "            Se precisar usar os dias da semana, mes ou ano, basta usar os atributos do index após transformá-lo\n",
    "    \"\"\"\n",
    "    df_pipe = dataframe.copy()\n",
    "    print('Dataframe carregado!')\n",
    "\n",
    "    #Dropando colunas desnecessárias\n",
    "    df_pipe.drop(['item', 'semana_comercial'], axis=1, inplace=True)\n",
    "    print(\"Colunas 'item' e 'semana_comercial' dropadas!\")\n",
    "\n",
    "    #Dropando linhas com vendas Guide Shop ('GS')\n",
    "    df_pipe = df_pipe.loc[df_pipe['clima'] != 'GS']\n",
    "    print('Vendas Guide Shop (GS) dropadas!')\n",
    "\n",
    "    #Alterando vendas negativas para zero\n",
    "    df_pipe.loc[df_pipe.venda < 0, 'venda'] = 0\n",
    "    print('Vendas negativas alteradas para zero!')\n",
    "\n",
    "    #Transformando variaveis categóricas em variaveis numéricas\n",
    "    df_pipe['localidade'] = df_pipe['localidade'].map({ 'br':2, 'uy':1, 'ar':0 })\n",
    "    df_pipe['loja_tamanho'] = df_pipe['loja_tamanho'].map({ 'PP':0, 'P':1, 'M':2, 'G':3, 'GG':4 })\n",
    "    df_pipe['clima'] = df_pipe['clima'].map({ 'SPO':5, 'RIO':4, 'NOR':3, 'SUL':2 ,'URU':1 ,'ARG': 0, 'W':'W'})\n",
    "    print('Variaveis categoricas transformadas em numéricas!')\n",
    "\n",
    "    #Transformando a coluna 'data_semana_comercial' em datetime\n",
    "    df_pipe.data_semana_comercial = pd.to_datetime(df_pipe.data_semana_comercial)\n",
    "    print(\"coluna 'data_semana_comercial' transformada em datetime!\")\n",
    "\n",
    "    #Tratando dataset para lojas web\n",
    "    df_web = df_pipe[df_pipe['categoria_loja'] == 'web']\n",
    "    del df_web['categoria_loja']\n",
    "    del df_web['clima']\n",
    "    del df_web['localidade']\n",
    "    del df_web['loja_tamanho']\n",
    "    print('Dataset de treino para lojas web criado')\n",
    "    \n",
    "\n",
    "    #Tratando dataset para lojas web\n",
    "    df_fisica = df_pipe[df_pipe['categoria_loja'] == 'fisica']\n",
    "    del df_fisica['categoria_loja']\n",
    "    print('Dataset de treino para lojas fisicas criado')\n",
    "    \n",
    "    return df_web, df_fisica"
   ]
  },
  {
   "cell_type": "code",
   "execution_count": 8,
   "metadata": {},
   "outputs": [
    {
     "data": {
      "text/html": [
       "<div>\n",
       "<style scoped>\n",
       "    .dataframe tbody tr th:only-of-type {\n",
       "        vertical-align: middle;\n",
       "    }\n",
       "\n",
       "    .dataframe tbody tr th {\n",
       "        vertical-align: top;\n",
       "    }\n",
       "\n",
       "    .dataframe thead th {\n",
       "        text-align: right;\n",
       "    }\n",
       "</style>\n",
       "<table border=\"1\" class=\"dataframe\">\n",
       "  <thead>\n",
       "    <tr style=\"text-align: right;\">\n",
       "      <th></th>\n",
       "      <th>cod_loja</th>\n",
       "      <th>data_semana_comercial</th>\n",
       "      <th>venda</th>\n",
       "    </tr>\n",
       "  </thead>\n",
       "  <tbody>\n",
       "    <tr>\n",
       "      <th>0</th>\n",
       "      <td>407</td>\n",
       "      <td>2022-06-05</td>\n",
       "      <td>188</td>\n",
       "    </tr>\n",
       "    <tr>\n",
       "      <th>1</th>\n",
       "      <td>407</td>\n",
       "      <td>2021-05-23</td>\n",
       "      <td>136</td>\n",
       "    </tr>\n",
       "    <tr>\n",
       "      <th>2</th>\n",
       "      <td>406</td>\n",
       "      <td>2021-05-30</td>\n",
       "      <td>926</td>\n",
       "    </tr>\n",
       "    <tr>\n",
       "      <th>3</th>\n",
       "      <td>407</td>\n",
       "      <td>2022-04-03</td>\n",
       "      <td>152</td>\n",
       "    </tr>\n",
       "    <tr>\n",
       "      <th>4</th>\n",
       "      <td>407</td>\n",
       "      <td>2022-07-24</td>\n",
       "      <td>33</td>\n",
       "    </tr>\n",
       "  </tbody>\n",
       "</table>\n",
       "</div>"
      ],
      "text/plain": [
       "   cod_loja data_semana_comercial  venda\n",
       "0       407            2022-06-05    188\n",
       "1       407            2021-05-23    136\n",
       "2       406            2021-05-30    926\n",
       "3       407            2022-04-03    152\n",
       "4       407            2022-07-24     33"
      ]
     },
     "execution_count": 8,
     "metadata": {},
     "output_type": "execute_result"
    }
   ],
   "source": [
    "df = pd.read_csv('../../../input/clean_data/renner_web_treino.csv')\n",
    "df.head()"
   ]
  },
  {
   "cell_type": "code",
   "execution_count": 9,
   "metadata": {},
   "outputs": [
    {
     "ename": "ModuleNotFoundError",
     "evalue": "No module named 'darts'",
     "output_type": "error",
     "traceback": [
      "\u001b[1;31m---------------------------------------------------------------------------\u001b[0m",
      "\u001b[1;31mModuleNotFoundError\u001b[0m                       Traceback (most recent call last)",
      "Cell \u001b[1;32mIn[9], line 1\u001b[0m\n\u001b[1;32m----> 1\u001b[0m \u001b[39mimport\u001b[39;00m \u001b[39mdarts\u001b[39;00m\n",
      "\u001b[1;31mModuleNotFoundError\u001b[0m: No module named 'darts'"
     ]
    }
   ],
   "source": [
    "import darts"
   ]
  }
 ],
 "metadata": {
  "kernelspec": {
   "display_name": "Python 3",
   "language": "python",
   "name": "python3"
  },
  "language_info": {
   "codemirror_mode": {
    "name": "ipython",
    "version": 3
   },
   "file_extension": ".py",
   "mimetype": "text/x-python",
   "name": "python",
   "nbconvert_exporter": "python",
   "pygments_lexer": "ipython3",
   "version": "3.9.0"
  },
  "orig_nbformat": 4,
  "vscode": {
   "interpreter": {
    "hash": "11938c6bc6919ae2720b4d5011047913343b08a43b18698fd82dedb0d4417594"
   }
  }
 },
 "nbformat": 4,
 "nbformat_minor": 2
}
