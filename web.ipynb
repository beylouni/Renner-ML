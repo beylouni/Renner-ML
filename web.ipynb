{
 "cells": [
  {
   "cell_type": "code",
   "execution_count": 20,
   "metadata": {},
   "outputs": [],
   "source": [
    "import numpy as np \n",
    "import math\n",
    "import pandas as pd # \n",
    "from matplotlib import pyplot as plt\n",
    "import seaborn as sns\n",
    "from sklearn.metrics import mean_absolute_percentage_error\n",
    "\n",
    "from prophet import Prophet\n",
    "from prophet.diagnostics import cross_validation\n",
    "from prophet.diagnostics import performance_metrics\n",
    "\n",
    "import lightgbm as lgb\n",
    "from sklearn.model_selection import TimeSeriesSplit\n",
    "from components.data_pipeline import dataPipeline\n",
    "\n",
    "import warnings\n",
    "warnings.filterwarnings('ignore')"
   ]
  },
  {
   "cell_type": "code",
   "execution_count": 2,
   "metadata": {},
   "outputs": [
    {
     "name": "stdout",
     "output_type": "stream",
     "text": [
      "Dataframe carregado!\n",
      "Colunas 'item' e 'semana_comercial' dropadas!\n",
      "Vendas Guide Shop (GS) dropadas!\n",
      "Vendas negativas alteradas para zero!\n",
      "Variaveis categoricas transformadas em numéricas!\n",
      "coluna 'data_semana_comercial' transformada em datetime!\n",
      "Dataset de treino para lojas web criado\n",
      "Dataset de treino para lojas fisicas criado\n",
      "Dataframe carregado!\n",
      "Colunas 'item' e 'semana_comercial' dropadas!\n",
      "Vendas Guide Shop (GS) dropadas!\n",
      "Vendas negativas alteradas para zero!\n",
      "Variaveis categoricas transformadas em numéricas!\n",
      "coluna 'data_semana_comercial' transformada em datetime!\n",
      "Dataset de treino para lojas web criado\n",
      "Dataset de treino para lojas fisicas criado\n"
     ]
    }
   ],
   "source": [
    "#TESTES\n",
    "df_test = pd.read_csv('input/teste1.csv')\n",
    "df_test, _ = dataPipeline(df_test)\n",
    "df_test = df_test.sort_values(by='data_semana_comercial')\n",
    "\n",
    "df_test2 = pd.read_csv('input/teste2.csv')\n",
    "df_test2, _ = dataPipeline(df_test2)\n",
    "df_test2 = df_test2.sort_values(by='data_semana_comercial')"
   ]
  },
  {
   "cell_type": "code",
   "execution_count": 3,
   "metadata": {},
   "outputs": [
    {
     "name": "stdout",
     "output_type": "stream",
     "text": [
      "Dataframe carregado!\n",
      "Colunas 'item' e 'semana_comercial' dropadas!\n",
      "Vendas Guide Shop (GS) dropadas!\n",
      "Vendas negativas alteradas para zero!\n",
      "Variaveis categoricas transformadas em numéricas!\n",
      "coluna 'data_semana_comercial' transformada em datetime!\n",
      "Dataset de treino para lojas web criado\n",
      "Dataset de treino para lojas fisicas criado\n"
     ]
    }
   ],
   "source": [
    "#TREINO\n",
    "df = pd.read_csv('input/treino.csv')\n",
    "df, _ = dataPipeline(df)\n",
    "df = df.sort_values(by='data_semana_comercial')"
   ]
  },
  {
   "attachments": {},
   "cell_type": "markdown",
   "metadata": {},
   "source": [
    "# Prophet"
   ]
  },
  {
   "cell_type": "code",
   "execution_count": 4,
   "metadata": {},
   "outputs": [],
   "source": [
    "df_prophet = df.copy()\n",
    "df_prophet.data_semana_comercial = pd.to_datetime(df_prophet.data_semana_comercial)\n",
    "df_prophet_406 = df_prophet[df_prophet.cod_loja == 406]\n",
    "df_prophet_407 = df_prophet[df_prophet.cod_loja == 407]\n",
    "df_prophet_406.drop('cod_loja', axis=1, inplace=True)\n",
    "df_prophet_407.drop('cod_loja', axis=1, inplace=True)\n",
    "df_prophet_406.columns = ['ds', 'y']\n",
    "df_prophet_407.columns = ['ds', 'y']"
   ]
  },
  {
   "cell_type": "code",
   "execution_count": 5,
   "metadata": {},
   "outputs": [
    {
     "name": "stderr",
     "output_type": "stream",
     "text": [
      "12:51:20 - cmdstanpy - INFO - Chain [1] start processing\n",
      "12:51:20 - cmdstanpy - INFO - Chain [1] done processing\n",
      "12:51:20 - cmdstanpy - INFO - Chain [1] start processing\n",
      "12:51:20 - cmdstanpy - INFO - Chain [1] done processing\n"
     ]
    },
    {
     "data": {
      "text/plain": [
       "<prophet.forecaster.Prophet at 0x25e2496f3a0>"
      ]
     },
     "execution_count": 5,
     "metadata": {},
     "output_type": "execute_result"
    }
   ],
   "source": [
    "model_406 = Prophet()\n",
    "model_406.fit(df_prophet_406)\n",
    "\n",
    "model_407 = Prophet()\n",
    "model_407.fit(df_prophet_407)"
   ]
  },
  {
   "cell_type": "code",
   "execution_count": 6,
   "metadata": {},
   "outputs": [],
   "source": [
    "df_prophet_test_406 = df_test.copy()\n",
    "df_prophet_test_406 = df_prophet_test_406[df_prophet_test_406.cod_loja == 406]\n",
    "df_prophet_test_406.drop('cod_loja', axis=1, inplace=True)\n",
    "df_prophet_test_406.data_semana_comercial = pd.to_datetime(df_prophet_test_406.data_semana_comercial)\n",
    "df_prophet_test_406.columns = ['ds', 'venda']\n",
    "df_prophet_test_406_pred = df_prophet_test_406.drop('venda', axis=1).copy()\n",
    "\n",
    "df_prophet_test_407 = df_test.copy()\n",
    "df_prophet_test_407 = df_prophet_test_407[df_prophet_test_407.cod_loja == 407]\n",
    "df_prophet_test_407.drop('cod_loja', axis=1, inplace=True)\n",
    "df_prophet_test_407.data_semana_comercial = pd.to_datetime(df_prophet_test_407.data_semana_comercial)\n",
    "df_prophet_test_407.columns = ['ds', 'venda']\n",
    "df_prophet_test_407_pred = df_prophet_test_407.drop('venda', axis=1).copy()\n",
    "\n",
    "df_prophet_test2_406 = df_test2.copy()\n",
    "df_prophet_test2_406 = df_prophet_test2_406[df_prophet_test2_406.cod_loja == 407]\n",
    "df_prophet_test2_406.drop('cod_loja', axis=1, inplace=True)\n",
    "df_prophet_test2_406.data_semana_comercial = pd.to_datetime(df_prophet_test2_406.data_semana_comercial)\n",
    "df_prophet_test2_406.columns = ['ds', 'venda']\n",
    "df_prophet_test2_406_pred2 = df_prophet_test2_406.drop('venda', axis=1).copy()\n",
    "\n",
    "df_prophet_test2_407 = df_test2.copy()\n",
    "df_prophet_test2_407 = df_prophet_test2_407[df_prophet_test2_407.cod_loja == 407]\n",
    "df_prophet_test2_407.drop('cod_loja', axis=1, inplace=True)\n",
    "df_prophet_test2_407.data_semana_comercial = pd.to_datetime(df_prophet_test2_407.data_semana_comercial)\n",
    "df_prophet_test2_407.columns = ['ds', 'venda']\n",
    "df_prophet_test2_407_pred2 = df_prophet_test2_407.drop('venda', axis=1).copy()"
   ]
  },
  {
   "cell_type": "code",
   "execution_count": 7,
   "metadata": {},
   "outputs": [],
   "source": [
    "forecast1_406 = model_406.predict(df_prophet_test_406_pred)\n",
    "forecast2_406 = model_406.predict(df_prophet_test2_406_pred2)\n",
    "\n",
    "forecast1_407 = model_407.predict(df_prophet_test_406_pred)\n",
    "forecast2_407 = model_407.predict(df_prophet_test2_407_pred2)"
   ]
  },
  {
   "cell_type": "code",
   "execution_count": 8,
   "metadata": {},
   "outputs": [],
   "source": [
    "forecast2_406.loc[forecast2_406.yhat < 0, 'yhat'] = 0\n",
    "forecast2_407.loc[forecast2_407.yhat < 0, 'yhat'] = 0"
   ]
  },
  {
   "cell_type": "code",
   "execution_count": 9,
   "metadata": {},
   "outputs": [],
   "source": [
    "forecast1_406 = forecast1_406[['ds', 'yhat']]\n",
    "forecast2_406 = forecast2_406[['ds', 'yhat']]\n",
    "forecast1_407 = forecast1_407[['ds', 'yhat']]\n",
    "forecast2_407 = forecast2_407[['ds', 'yhat']]"
   ]
  },
  {
   "cell_type": "code",
   "execution_count": 10,
   "metadata": {},
   "outputs": [],
   "source": [
    "forecast1_406['cod_loja'] = 406\n",
    "forecast2_406['cod_loja'] = 406\n",
    "forecast1_407['cod_loja'] = 407\n",
    "forecast2_407['cod_loja'] = 407"
   ]
  },
  {
   "cell_type": "code",
   "execution_count": 11,
   "metadata": {},
   "outputs": [
    {
     "data": {
      "text/html": [
       "<div>\n",
       "<style scoped>\n",
       "    .dataframe tbody tr th:only-of-type {\n",
       "        vertical-align: middle;\n",
       "    }\n",
       "\n",
       "    .dataframe tbody tr th {\n",
       "        vertical-align: top;\n",
       "    }\n",
       "\n",
       "    .dataframe thead th {\n",
       "        text-align: right;\n",
       "    }\n",
       "</style>\n",
       "<table border=\"1\" class=\"dataframe\">\n",
       "  <thead>\n",
       "    <tr style=\"text-align: right;\">\n",
       "      <th></th>\n",
       "      <th>ds</th>\n",
       "      <th>yhat</th>\n",
       "      <th>cod_loja</th>\n",
       "    </tr>\n",
       "  </thead>\n",
       "  <tbody>\n",
       "    <tr>\n",
       "      <th>0</th>\n",
       "      <td>2022-05-01</td>\n",
       "      <td>364.871880</td>\n",
       "      <td>406</td>\n",
       "    </tr>\n",
       "    <tr>\n",
       "      <th>1</th>\n",
       "      <td>2022-05-08</td>\n",
       "      <td>557.713960</td>\n",
       "      <td>406</td>\n",
       "    </tr>\n",
       "    <tr>\n",
       "      <th>2</th>\n",
       "      <td>2022-05-15</td>\n",
       "      <td>848.799900</td>\n",
       "      <td>406</td>\n",
       "    </tr>\n",
       "    <tr>\n",
       "      <th>3</th>\n",
       "      <td>2022-05-22</td>\n",
       "      <td>1070.398502</td>\n",
       "      <td>406</td>\n",
       "    </tr>\n",
       "    <tr>\n",
       "      <th>4</th>\n",
       "      <td>2022-05-29</td>\n",
       "      <td>1088.237261</td>\n",
       "      <td>406</td>\n",
       "    </tr>\n",
       "    <tr>\n",
       "      <th>5</th>\n",
       "      <td>2022-06-05</td>\n",
       "      <td>937.359420</td>\n",
       "      <td>406</td>\n",
       "    </tr>\n",
       "    <tr>\n",
       "      <th>6</th>\n",
       "      <td>2022-06-12</td>\n",
       "      <td>791.239217</td>\n",
       "      <td>406</td>\n",
       "    </tr>\n",
       "    <tr>\n",
       "      <th>7</th>\n",
       "      <td>2022-06-19</td>\n",
       "      <td>789.025004</td>\n",
       "      <td>406</td>\n",
       "    </tr>\n",
       "  </tbody>\n",
       "</table>\n",
       "</div>"
      ],
      "text/plain": [
       "          ds         yhat  cod_loja\n",
       "0 2022-05-01   364.871880       406\n",
       "1 2022-05-08   557.713960       406\n",
       "2 2022-05-15   848.799900       406\n",
       "3 2022-05-22  1070.398502       406\n",
       "4 2022-05-29  1088.237261       406\n",
       "5 2022-06-05   937.359420       406\n",
       "6 2022-06-12   791.239217       406\n",
       "7 2022-06-19   789.025004       406"
      ]
     },
     "execution_count": 11,
     "metadata": {},
     "output_type": "execute_result"
    }
   ],
   "source": [
    "forecast1_406"
   ]
  },
  {
   "cell_type": "code",
   "execution_count": 12,
   "metadata": {},
   "outputs": [],
   "source": [
    "df_merged_406 = df_test.merge(forecast1_406, left_on=['data_semana_comercial', 'cod_loja'], right_on=['ds', 'cod_loja'])\n",
    "df_merged_406.drop('ds', axis=1, inplace=True)\n",
    "df_merged2_406 = df_test2.merge(forecast2_406, left_on=['data_semana_comercial', 'cod_loja'], right_on=['ds', 'cod_loja'])\n",
    "df_merged2_406.drop('ds', axis=1, inplace=True)\n",
    "\n",
    "df_merged_407 = df_test.merge(forecast1_407, left_on=['data_semana_comercial', 'cod_loja'], right_on=['ds', 'cod_loja'])\n",
    "df_merged_407.drop('ds', axis=1, inplace=True)\n",
    "df_merged2_407 = df_test2.merge(forecast2_407, left_on=['data_semana_comercial', 'cod_loja'], right_on=['ds', 'cod_loja'])\n",
    "df_merged2_407.drop('ds', axis=1, inplace=True)\n"
   ]
  },
  {
   "cell_type": "code",
   "execution_count": 21,
   "metadata": {},
   "outputs": [],
   "source": [
    "# Concatenando os DataFrames verticalmente\n",
    "df_concatenated = pd.concat([df_merged_406, df_merged2_406, df_merged_407, df_merged2_407])\n",
    "\n",
    "# Reinicializando os índices do novo DataFrame\n",
    "df_concatenated = df_concatenated.reset_index(drop=True)\n",
    "df_concatenated['yhat'] = df_concatenated['yhat'].apply(lambda x: math.floor(x))"
   ]
  },
  {
   "cell_type": "code",
   "execution_count": 22,
   "metadata": {},
   "outputs": [],
   "source": [
    "df_concatenated['APE'] = abs((df_concatenated['venda'] - df_concatenated['yhat']) / df_concatenated['venda']) * 100"
   ]
  },
  {
   "cell_type": "code",
   "execution_count": 28,
   "metadata": {},
   "outputs": [],
   "source": [
    "df_concatenated['APE'] = df_concatenated['APE'].round(2)"
   ]
  },
  {
   "cell_type": "code",
   "execution_count": 30,
   "metadata": {},
   "outputs": [],
   "source": [
    "df_concatenated.to_csv('results/web/web_forecasting_prophet.csv', index=False, sep=';')"
   ]
  }
 ],
 "metadata": {
  "kernelspec": {
   "display_name": "Python 3",
   "language": "python",
   "name": "python3"
  },
  "language_info": {
   "codemirror_mode": {
    "name": "ipython",
    "version": 3
   },
   "file_extension": ".py",
   "mimetype": "text/x-python",
   "name": "python",
   "nbconvert_exporter": "python",
   "pygments_lexer": "ipython3",
   "version": "3.10.10"
  },
  "orig_nbformat": 4
 },
 "nbformat": 4,
 "nbformat_minor": 2
}
