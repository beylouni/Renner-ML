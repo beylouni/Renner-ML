{
 "cells": [
  {
   "cell_type": "code",
   "execution_count": 46,
   "metadata": {},
   "outputs": [],
   "source": [
    "import numpy as np \n",
    "import pandas as pd # \n",
    "from matplotlib import pyplot as plt\n",
    "import seaborn as sns\n",
    "\n",
    "from prophet import Prophet\n",
    "from prophet.diagnostics import cross_validation\n",
    "from prophet.diagnostics import performance_metrics\n",
    "\n",
    "import lightgbm as lgb\n",
    "from sklearn.model_selection import TimeSeriesSplit\n",
    "from components.data_pipeline import dataPipeline\n",
    "\n",
    "import warnings\n",
    "warnings.filterwarnings('ignore')"
   ]
  },
  {
   "cell_type": "code",
   "execution_count": 47,
   "metadata": {},
   "outputs": [
    {
     "name": "stdout",
     "output_type": "stream",
     "text": [
      "Dataframe carregado!\n",
      "Colunas 'item' e 'semana_comercial' dropadas!\n",
      "Vendas Guide Shop (GS) dropadas!\n",
      "Vendas negativas alteradas para zero!\n",
      "Variaveis categoricas transformadas em numéricas!\n",
      "coluna 'data_semana_comercial' transformada em datetime!\n",
      "Dataset de treino para lojas web criado\n",
      "Dataset de treino para lojas fisicas criado\n",
      "Dataframe carregado!\n",
      "Colunas 'item' e 'semana_comercial' dropadas!\n",
      "Vendas Guide Shop (GS) dropadas!\n",
      "Vendas negativas alteradas para zero!\n",
      "Variaveis categoricas transformadas em numéricas!\n",
      "coluna 'data_semana_comercial' transformada em datetime!\n",
      "Dataset de treino para lojas web criado\n",
      "Dataset de treino para lojas fisicas criado\n"
     ]
    }
   ],
   "source": [
    "#TESTES\n",
    "df_test = pd.read_csv('input/teste1.csv')\n",
    "df_test, _ = dataPipeline(df_test)\n",
    "df_test = df_test.sort_values(by='data_semana_comercial')\n",
    "\n",
    "\n",
    "df_test2 = pd.read_csv('input/teste2.csv')\n",
    "df_test2, _ = dataPipeline(df_test2)\n",
    "df_test2 = df_test2.sort_values(by='data_semana_comercial')"
   ]
  },
  {
   "cell_type": "code",
   "execution_count": 48,
   "metadata": {},
   "outputs": [
    {
     "name": "stdout",
     "output_type": "stream",
     "text": [
      "Dataframe carregado!\n",
      "Colunas 'item' e 'semana_comercial' dropadas!\n",
      "Vendas Guide Shop (GS) dropadas!\n",
      "Vendas negativas alteradas para zero!\n",
      "Variaveis categoricas transformadas em numéricas!\n",
      "coluna 'data_semana_comercial' transformada em datetime!\n",
      "Dataset de treino para lojas web criado\n",
      "Dataset de treino para lojas fisicas criado\n"
     ]
    }
   ],
   "source": [
    "#TREINO\n",
    "df = pd.read_csv('input/treino.csv')\n",
    "df, _ = dataPipeline(df)\n",
    "df = df.sort_values(by='data_semana_comercial')"
   ]
  },
  {
   "attachments": {},
   "cell_type": "markdown",
   "metadata": {},
   "source": [
    "# Prophet"
   ]
  },
  {
   "cell_type": "code",
   "execution_count": 49,
   "metadata": {},
   "outputs": [
    {
     "data": {
      "text/html": [
       "<div>\n",
       "<style scoped>\n",
       "    .dataframe tbody tr th:only-of-type {\n",
       "        vertical-align: middle;\n",
       "    }\n",
       "\n",
       "    .dataframe tbody tr th {\n",
       "        vertical-align: top;\n",
       "    }\n",
       "\n",
       "    .dataframe thead th {\n",
       "        text-align: right;\n",
       "    }\n",
       "</style>\n",
       "<table border=\"1\" class=\"dataframe\">\n",
       "  <thead>\n",
       "    <tr style=\"text-align: right;\">\n",
       "      <th></th>\n",
       "      <th>ds</th>\n",
       "      <th>y</th>\n",
       "    </tr>\n",
       "  </thead>\n",
       "  <tbody>\n",
       "    <tr>\n",
       "      <th>60502</th>\n",
       "      <td>2017-01-01</td>\n",
       "      <td>18</td>\n",
       "    </tr>\n",
       "    <tr>\n",
       "      <th>32686</th>\n",
       "      <td>2017-01-08</td>\n",
       "      <td>3</td>\n",
       "    </tr>\n",
       "    <tr>\n",
       "      <th>7667</th>\n",
       "      <td>2017-01-15</td>\n",
       "      <td>16</td>\n",
       "    </tr>\n",
       "    <tr>\n",
       "      <th>38204</th>\n",
       "      <td>2017-01-22</td>\n",
       "      <td>7</td>\n",
       "    </tr>\n",
       "    <tr>\n",
       "      <th>76966</th>\n",
       "      <td>2017-01-29</td>\n",
       "      <td>22</td>\n",
       "    </tr>\n",
       "  </tbody>\n",
       "</table>\n",
       "</div>"
      ],
      "text/plain": [
       "              ds   y\n",
       "60502 2017-01-01  18\n",
       "32686 2017-01-08   3\n",
       "7667  2017-01-15  16\n",
       "38204 2017-01-22   7\n",
       "76966 2017-01-29  22"
      ]
     },
     "execution_count": 49,
     "metadata": {},
     "output_type": "execute_result"
    }
   ],
   "source": [
    "df_prophet = df.copy()\n",
    "df_prophet.data_semana_comercial = pd.to_datetime(df_prophet.data_semana_comercial)\n",
    "df_prophet.drop('cod_loja', axis=1, inplace=True)\n",
    "df_prophet.columns = ['ds', 'y']\n",
    "df_prophet.head()"
   ]
  },
  {
   "cell_type": "code",
   "execution_count": 50,
   "metadata": {},
   "outputs": [
    {
     "name": "stderr",
     "output_type": "stream",
     "text": [
      "17:51:27 - cmdstanpy - INFO - Chain [1] start processing\n",
      "17:51:27 - cmdstanpy - INFO - Chain [1] done processing\n"
     ]
    },
    {
     "data": {
      "text/plain": [
       "<prophet.forecaster.Prophet at 0x1e5da1d0820>"
      ]
     },
     "execution_count": 50,
     "metadata": {},
     "output_type": "execute_result"
    }
   ],
   "source": [
    "model = Prophet()\n",
    "model.fit(df_prophet)"
   ]
  },
  {
   "cell_type": "code",
   "execution_count": 51,
   "metadata": {},
   "outputs": [],
   "source": [
    "df_prophet_test = df_test.copy()\n",
    "df_prophet_test.drop('cod_loja', axis=1, inplace=True)\n",
    "df_prophet_test.data_semana_comercial = pd.to_datetime(df_prophet_test.data_semana_comercial)\n",
    "df_prophet_test.columns = ['ds', 'venda']\n",
    "df_prophet_test_pred = df_prophet_test.drop('venda', axis=1).copy()\n",
    "\n",
    "df_prophet_test2 = df_test2.copy()\n",
    "df_prophet_test2.drop('cod_loja', axis=1, inplace=True)\n",
    "df_prophet_test2.data_semana_comercial = pd.to_datetime(df_prophet_test2.data_semana_comercial)\n",
    "df_prophet_test2.columns = ['ds', 'venda']\n",
    "df_prophet_test_pred2 = df_prophet_test2.drop('venda', axis=1).copy()"
   ]
  },
  {
   "cell_type": "code",
   "execution_count": 58,
   "metadata": {},
   "outputs": [],
   "source": [
    "forecast1 = model.predict(df_prophet_test_pred)\n",
    "forecast2 = model.predict(df_prophet_test_pred2)"
   ]
  },
  {
   "cell_type": "code",
   "execution_count": null,
   "metadata": {},
   "outputs": [],
   "source": []
  }
 ],
 "metadata": {
  "kernelspec": {
   "display_name": "Python 3",
   "language": "python",
   "name": "python3"
  },
  "language_info": {
   "codemirror_mode": {
    "name": "ipython",
    "version": 3
   },
   "file_extension": ".py",
   "mimetype": "text/x-python",
   "name": "python",
   "nbconvert_exporter": "python",
   "pygments_lexer": "ipython3",
   "version": "3.10.10"
  },
  "orig_nbformat": 4
 },
 "nbformat": 4,
 "nbformat_minor": 2
}
