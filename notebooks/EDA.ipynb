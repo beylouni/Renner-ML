{
 "cells": [
  {
   "cell_type": "code",
   "execution_count": 21,
   "metadata": {},
   "outputs": [],
   "source": [
    "import pandas as pd\n",
    "import numpy as np\n",
    "import sklearn as sk\n",
    "import seaborn as sns\n",
    "import matplotlib.pyplot as plt\n",
    "from scipy import stats\n",
    "\n",
    "import warnings\n",
    "warnings.filterwarnings('ignore')\n",
    "from pandas_profiling import ProfileReport"
   ]
  },
  {
   "cell_type": "code",
   "execution_count": 26,
   "metadata": {},
   "outputs": [],
   "source": [
    "%matplotlib inline"
   ]
  },
  {
   "attachments": {},
   "cell_type": "markdown",
   "metadata": {},
   "source": [
    "# Carregando os dados"
   ]
  },
  {
   "cell_type": "code",
   "execution_count": 2,
   "metadata": {},
   "outputs": [
    {
     "data": {
      "text/html": [
       "<div>\n",
       "<style scoped>\n",
       "    .dataframe tbody tr th:only-of-type {\n",
       "        vertical-align: middle;\n",
       "    }\n",
       "\n",
       "    .dataframe tbody tr th {\n",
       "        vertical-align: top;\n",
       "    }\n",
       "\n",
       "    .dataframe thead th {\n",
       "        text-align: right;\n",
       "    }\n",
       "</style>\n",
       "<table border=\"1\" class=\"dataframe\">\n",
       "  <thead>\n",
       "    <tr style=\"text-align: right;\">\n",
       "      <th></th>\n",
       "      <th>item</th>\n",
       "      <th>cod_loja</th>\n",
       "      <th>semana_comercial</th>\n",
       "      <th>data_semana_comercial</th>\n",
       "      <th>venda</th>\n",
       "      <th>categoria_loja</th>\n",
       "      <th>localidade</th>\n",
       "      <th>loja_tamanho</th>\n",
       "      <th>clima</th>\n",
       "    </tr>\n",
       "  </thead>\n",
       "  <tbody>\n",
       "    <tr>\n",
       "      <th>0</th>\n",
       "      <td>100342</td>\n",
       "      <td>58</td>\n",
       "      <td>202130</td>\n",
       "      <td>2021-07-25</td>\n",
       "      <td>51</td>\n",
       "      <td>fisica</td>\n",
       "      <td>br</td>\n",
       "      <td>G</td>\n",
       "      <td>RIO</td>\n",
       "    </tr>\n",
       "    <tr>\n",
       "      <th>1</th>\n",
       "      <td>100342</td>\n",
       "      <td>63</td>\n",
       "      <td>202221</td>\n",
       "      <td>2022-05-22</td>\n",
       "      <td>86</td>\n",
       "      <td>fisica</td>\n",
       "      <td>br</td>\n",
       "      <td>G</td>\n",
       "      <td>RIO</td>\n",
       "    </tr>\n",
       "    <tr>\n",
       "      <th>2</th>\n",
       "      <td>100342</td>\n",
       "      <td>84</td>\n",
       "      <td>202131</td>\n",
       "      <td>2021-08-01</td>\n",
       "      <td>62</td>\n",
       "      <td>fisica</td>\n",
       "      <td>br</td>\n",
       "      <td>G</td>\n",
       "      <td>RIO</td>\n",
       "    </tr>\n",
       "    <tr>\n",
       "      <th>3</th>\n",
       "      <td>100342</td>\n",
       "      <td>2</td>\n",
       "      <td>202222</td>\n",
       "      <td>2022-05-29</td>\n",
       "      <td>171</td>\n",
       "      <td>fisica</td>\n",
       "      <td>br</td>\n",
       "      <td>G</td>\n",
       "      <td>SUL</td>\n",
       "    </tr>\n",
       "    <tr>\n",
       "      <th>4</th>\n",
       "      <td>100342</td>\n",
       "      <td>407</td>\n",
       "      <td>202223</td>\n",
       "      <td>2022-06-05</td>\n",
       "      <td>188</td>\n",
       "      <td>web</td>\n",
       "      <td>br</td>\n",
       "      <td>GG</td>\n",
       "      <td>W</td>\n",
       "    </tr>\n",
       "  </tbody>\n",
       "</table>\n",
       "</div>"
      ],
      "text/plain": [
       "     item  cod_loja  semana_comercial data_semana_comercial  venda  \\\n",
       "0  100342        58            202130            2021-07-25     51   \n",
       "1  100342        63            202221            2022-05-22     86   \n",
       "2  100342        84            202131            2021-08-01     62   \n",
       "3  100342         2            202222            2022-05-29    171   \n",
       "4  100342       407            202223            2022-06-05    188   \n",
       "\n",
       "  categoria_loja localidade loja_tamanho clima  \n",
       "0         fisica         br            G   RIO  \n",
       "1         fisica         br            G   RIO  \n",
       "2         fisica         br            G   RIO  \n",
       "3         fisica         br            G   SUL  \n",
       "4            web         br           GG     W  "
      ]
     },
     "execution_count": 2,
     "metadata": {},
     "output_type": "execute_result"
    }
   ],
   "source": [
    "df = pd.read_csv('../input/renner_desafio_pucrs_treino.csv')\n",
    "df.head()"
   ]
  },
  {
   "attachments": {},
   "cell_type": "markdown",
   "metadata": {},
   "source": [
    "# Explorando os dados"
   ]
  },
  {
   "cell_type": "code",
   "execution_count": 13,
   "metadata": {},
   "outputs": [
    {
     "data": {
      "application/vnd.jupyter.widget-view+json": {
       "model_id": "80db3990587f46caab0fb76c260f99e9",
       "version_major": 2,
       "version_minor": 0
      },
      "text/plain": [
       "Summarize dataset:   0%|          | 0/5 [00:00<?, ?it/s]"
      ]
     },
     "metadata": {},
     "output_type": "display_data"
    },
    {
     "data": {
      "application/vnd.jupyter.widget-view+json": {
       "model_id": "a837303c3fae43718fee7d48bc0cddb7",
       "version_major": 2,
       "version_minor": 0
      },
      "text/plain": [
       "Generate report structure:   0%|          | 0/1 [00:00<?, ?it/s]"
      ]
     },
     "metadata": {},
     "output_type": "display_data"
    },
    {
     "data": {
      "application/vnd.jupyter.widget-view+json": {
       "model_id": "b4d21e9877c3495495e470065b9d2d5d",
       "version_major": 2,
       "version_minor": 0
      },
      "text/plain": [
       "Render HTML:   0%|          | 0/1 [00:00<?, ?it/s]"
      ]
     },
     "metadata": {},
     "output_type": "display_data"
    },
    {
     "data": {
      "application/vnd.jupyter.widget-view+json": {
       "model_id": "31c84f54d1a3454b84369590250a4c8a",
       "version_major": 2,
       "version_minor": 0
      },
      "text/plain": [
       "Export report to file:   0%|          | 0/1 [00:00<?, ?it/s]"
      ]
     },
     "metadata": {},
     "output_type": "display_data"
    }
   ],
   "source": [
    "#Gerando o Profile Report\n",
    "profile = ProfileReport(df)\n",
    "profile.to_file('profile_output.html')"
   ]
  },
  {
   "cell_type": "code",
   "execution_count": 4,
   "metadata": {},
   "outputs": [
    {
     "data": {
      "text/plain": [
       "item                     0\n",
       "cod_loja                 0\n",
       "semana_comercial         0\n",
       "data_semana_comercial    0\n",
       "venda                    0\n",
       "categoria_loja           0\n",
       "localidade               0\n",
       "loja_tamanho             0\n",
       "clima                    0\n",
       "dtype: int64"
      ]
     },
     "execution_count": 4,
     "metadata": {},
     "output_type": "execute_result"
    }
   ],
   "source": [
    "df.isna().sum()"
   ]
  },
  {
   "cell_type": "code",
   "execution_count": 5,
   "metadata": {},
   "outputs": [
    {
     "data": {
      "text/html": [
       "<div>\n",
       "<style scoped>\n",
       "    .dataframe tbody tr th:only-of-type {\n",
       "        vertical-align: middle;\n",
       "    }\n",
       "\n",
       "    .dataframe tbody tr th {\n",
       "        vertical-align: top;\n",
       "    }\n",
       "\n",
       "    .dataframe thead th {\n",
       "        text-align: right;\n",
       "    }\n",
       "</style>\n",
       "<table border=\"1\" class=\"dataframe\">\n",
       "  <thead>\n",
       "    <tr style=\"text-align: right;\">\n",
       "      <th></th>\n",
       "      <th>item</th>\n",
       "      <th>cod_loja</th>\n",
       "      <th>semana_comercial</th>\n",
       "      <th>venda</th>\n",
       "    </tr>\n",
       "  </thead>\n",
       "  <tbody>\n",
       "    <tr>\n",
       "      <th>count</th>\n",
       "      <td>92877.0</td>\n",
       "      <td>92877.000000</td>\n",
       "      <td>92877.000000</td>\n",
       "      <td>92877.000000</td>\n",
       "    </tr>\n",
       "    <tr>\n",
       "      <th>mean</th>\n",
       "      <td>100342.0</td>\n",
       "      <td>176.024742</td>\n",
       "      <td>201975.466036</td>\n",
       "      <td>26.485158</td>\n",
       "    </tr>\n",
       "    <tr>\n",
       "      <th>std</th>\n",
       "      <td>0.0</td>\n",
       "      <td>107.675970</td>\n",
       "      <td>163.395399</td>\n",
       "      <td>71.062728</td>\n",
       "    </tr>\n",
       "    <tr>\n",
       "      <th>min</th>\n",
       "      <td>100342.0</td>\n",
       "      <td>1.000000</td>\n",
       "      <td>201701.000000</td>\n",
       "      <td>-4.000000</td>\n",
       "    </tr>\n",
       "    <tr>\n",
       "      <th>25%</th>\n",
       "      <td>100342.0</td>\n",
       "      <td>84.000000</td>\n",
       "      <td>201831.000000</td>\n",
       "      <td>5.000000</td>\n",
       "    </tr>\n",
       "    <tr>\n",
       "      <th>50%</th>\n",
       "      <td>100342.0</td>\n",
       "      <td>170.000000</td>\n",
       "      <td>201951.000000</td>\n",
       "      <td>14.000000</td>\n",
       "    </tr>\n",
       "    <tr>\n",
       "      <th>75%</th>\n",
       "      <td>100342.0</td>\n",
       "      <td>260.000000</td>\n",
       "      <td>202123.000000</td>\n",
       "      <td>30.000000</td>\n",
       "    </tr>\n",
       "    <tr>\n",
       "      <th>max</th>\n",
       "      <td>100342.0</td>\n",
       "      <td>420.000000</td>\n",
       "      <td>202234.000000</td>\n",
       "      <td>5476.000000</td>\n",
       "    </tr>\n",
       "  </tbody>\n",
       "</table>\n",
       "</div>"
      ],
      "text/plain": [
       "           item      cod_loja  semana_comercial         venda\n",
       "count   92877.0  92877.000000      92877.000000  92877.000000\n",
       "mean   100342.0    176.024742     201975.466036     26.485158\n",
       "std         0.0    107.675970        163.395399     71.062728\n",
       "min    100342.0      1.000000     201701.000000     -4.000000\n",
       "25%    100342.0     84.000000     201831.000000      5.000000\n",
       "50%    100342.0    170.000000     201951.000000     14.000000\n",
       "75%    100342.0    260.000000     202123.000000     30.000000\n",
       "max    100342.0    420.000000     202234.000000   5476.000000"
      ]
     },
     "execution_count": 5,
     "metadata": {},
     "output_type": "execute_result"
    }
   ],
   "source": [
    "df.describe()"
   ]
  },
  {
   "cell_type": "code",
   "execution_count": 6,
   "metadata": {},
   "outputs": [
    {
     "data": {
      "text/plain": [
       "0"
      ]
     },
     "execution_count": 6,
     "metadata": {},
     "output_type": "execute_result"
    }
   ],
   "source": [
    "df.duplicated().sum()"
   ]
  },
  {
   "cell_type": "code",
   "execution_count": 27,
   "metadata": {},
   "outputs": [
    {
     "data": {
      "image/png": "[encoded data removed]",
      "text/plain": [
       "<Figure size 640x480 with 1 Axes>"
      ]
     },
     "metadata": {},
     "output_type": "display_data"
    }
   ],
   "source": [
    "#Quantidade de lojas fisicas e lojas web\n",
    "sns.countplot(x='categoria_loja', data=df)\n",
    "plt.show()\n"
   ]
  },
  {
   "cell_type": "code",
   "execution_count": 29,
   "metadata": {},
   "outputs": [
    {
     "data": {
      "text/plain": [
       "<AxesSubplot: xlabel='categoria_loja', ylabel='venda'>"
      ]
     },
     "execution_count": 29,
     "metadata": {},
     "output_type": "execute_result"
    },
    {
     "data": {
      "image/png": "[encoded data removed]",
      "text/plain": [
       "<Figure size 640x480 with 1 Axes>"
      ]
     },
     "metadata": {},
     "output_type": "display_data"
    }
   ],
   "source": [
    "sns.barplot(x='categoria_loja', y='venda', data=df)"
   ]
  },
  {
   "cell_type": "code",
   "execution_count": 31,
   "metadata": {},
   "outputs": [
    {
     "name": "stdout",
     "output_type": "stream",
     "text": [
      "-4\n",
      "5476\n"
     ]
    }
   ],
   "source": [
    "print(df['venda'].min())\n",
    "print(df['venda'].max())"
   ]
  },
  {
   "cell_type": "code",
   "execution_count": 32,
   "metadata": {},
   "outputs": [
    {
     "data": {
      "image/png": "[encoded data removed]",
      "text/plain": [
       "<Figure size 640x480 with 1 Axes>"
      ]
     },
     "metadata": {},
     "output_type": "display_data"
    }
   ],
   "source": [
    "sb.boxplot(x=df['venda'])\n",
    "plt.show()"
   ]
  },
  {
   "cell_type": "code",
   "execution_count": 33,
   "metadata": {},
   "outputs": [
    {
     "data": {
      "text/html": [
       "<div>\n",
       "<style scoped>\n",
       "    .dataframe tbody tr th:only-of-type {\n",
       "        vertical-align: middle;\n",
       "    }\n",
       "\n",
       "    .dataframe tbody tr th {\n",
       "        vertical-align: top;\n",
       "    }\n",
       "\n",
       "    .dataframe thead th {\n",
       "        text-align: right;\n",
       "    }\n",
       "</style>\n",
       "<table border=\"1\" class=\"dataframe\">\n",
       "  <thead>\n",
       "    <tr style=\"text-align: right;\">\n",
       "      <th></th>\n",
       "      <th>item</th>\n",
       "      <th>cod_loja</th>\n",
       "      <th>semana_comercial</th>\n",
       "      <th>data_semana_comercial</th>\n",
       "      <th>venda</th>\n",
       "      <th>categoria_loja</th>\n",
       "      <th>localidade</th>\n",
       "      <th>loja_tamanho</th>\n",
       "      <th>clima</th>\n",
       "    </tr>\n",
       "  </thead>\n",
       "  <tbody>\n",
       "    <tr>\n",
       "      <th>900</th>\n",
       "      <td>100342</td>\n",
       "      <td>12</td>\n",
       "      <td>201743</td>\n",
       "      <td>2017-10-22</td>\n",
       "      <td>-1</td>\n",
       "      <td>fisica</td>\n",
       "      <td>br</td>\n",
       "      <td>G</td>\n",
       "      <td>SUL</td>\n",
       "    </tr>\n",
       "    <tr>\n",
       "      <th>1596</th>\n",
       "      <td>100342</td>\n",
       "      <td>321</td>\n",
       "      <td>201943</td>\n",
       "      <td>2019-10-27</td>\n",
       "      <td>-2</td>\n",
       "      <td>fisica</td>\n",
       "      <td>br</td>\n",
       "      <td>P</td>\n",
       "      <td>SPO</td>\n",
       "    </tr>\n",
       "    <tr>\n",
       "      <th>1791</th>\n",
       "      <td>100342</td>\n",
       "      <td>270</td>\n",
       "      <td>202007</td>\n",
       "      <td>2020-02-16</td>\n",
       "      <td>-1</td>\n",
       "      <td>fisica</td>\n",
       "      <td>br</td>\n",
       "      <td>M</td>\n",
       "      <td>SUL</td>\n",
       "    </tr>\n",
       "    <tr>\n",
       "      <th>1837</th>\n",
       "      <td>100342</td>\n",
       "      <td>273</td>\n",
       "      <td>202138</td>\n",
       "      <td>2021-09-19</td>\n",
       "      <td>-2</td>\n",
       "      <td>fisica</td>\n",
       "      <td>br</td>\n",
       "      <td>P</td>\n",
       "      <td>RIO</td>\n",
       "    </tr>\n",
       "    <tr>\n",
       "      <th>1983</th>\n",
       "      <td>100342</td>\n",
       "      <td>111</td>\n",
       "      <td>202203</td>\n",
       "      <td>2022-01-16</td>\n",
       "      <td>-1</td>\n",
       "      <td>fisica</td>\n",
       "      <td>br</td>\n",
       "      <td>M</td>\n",
       "      <td>RIO</td>\n",
       "    </tr>\n",
       "    <tr>\n",
       "      <th>...</th>\n",
       "      <td>...</td>\n",
       "      <td>...</td>\n",
       "      <td>...</td>\n",
       "      <td>...</td>\n",
       "      <td>...</td>\n",
       "      <td>...</td>\n",
       "      <td>...</td>\n",
       "      <td>...</td>\n",
       "      <td>...</td>\n",
       "    </tr>\n",
       "    <tr>\n",
       "      <th>92827</th>\n",
       "      <td>100342</td>\n",
       "      <td>58</td>\n",
       "      <td>202001</td>\n",
       "      <td>2020-01-05</td>\n",
       "      <td>-1</td>\n",
       "      <td>fisica</td>\n",
       "      <td>br</td>\n",
       "      <td>G</td>\n",
       "      <td>RIO</td>\n",
       "    </tr>\n",
       "    <tr>\n",
       "      <th>92846</th>\n",
       "      <td>100342</td>\n",
       "      <td>323</td>\n",
       "      <td>202145</td>\n",
       "      <td>2021-11-07</td>\n",
       "      <td>-1</td>\n",
       "      <td>fisica</td>\n",
       "      <td>br</td>\n",
       "      <td>P</td>\n",
       "      <td>NOR</td>\n",
       "    </tr>\n",
       "    <tr>\n",
       "      <th>92850</th>\n",
       "      <td>100342</td>\n",
       "      <td>171</td>\n",
       "      <td>201826</td>\n",
       "      <td>2018-07-01</td>\n",
       "      <td>-1</td>\n",
       "      <td>fisica</td>\n",
       "      <td>br</td>\n",
       "      <td>P</td>\n",
       "      <td>SPO</td>\n",
       "    </tr>\n",
       "    <tr>\n",
       "      <th>92858</th>\n",
       "      <td>100342</td>\n",
       "      <td>312</td>\n",
       "      <td>201745</td>\n",
       "      <td>2017-11-05</td>\n",
       "      <td>-1</td>\n",
       "      <td>fisica</td>\n",
       "      <td>br</td>\n",
       "      <td>M</td>\n",
       "      <td>SUL</td>\n",
       "    </tr>\n",
       "    <tr>\n",
       "      <th>92875</th>\n",
       "      <td>100342</td>\n",
       "      <td>163</td>\n",
       "      <td>201950</td>\n",
       "      <td>2019-12-15</td>\n",
       "      <td>-1</td>\n",
       "      <td>fisica</td>\n",
       "      <td>br</td>\n",
       "      <td>M</td>\n",
       "      <td>SPO</td>\n",
       "    </tr>\n",
       "  </tbody>\n",
       "</table>\n",
       "<p>520 rows × 9 columns</p>\n",
       "</div>"
      ],
      "text/plain": [
       "         item  cod_loja  semana_comercial data_semana_comercial  venda  \\\n",
       "900    100342        12            201743            2017-10-22     -1   \n",
       "1596   100342       321            201943            2019-10-27     -2   \n",
       "1791   100342       270            202007            2020-02-16     -1   \n",
       "1837   100342       273            202138            2021-09-19     -2   \n",
       "1983   100342       111            202203            2022-01-16     -1   \n",
       "...       ...       ...               ...                   ...    ...   \n",
       "92827  100342        58            202001            2020-01-05     -1   \n",
       "92846  100342       323            202145            2021-11-07     -1   \n",
       "92850  100342       171            201826            2018-07-01     -1   \n",
       "92858  100342       312            201745            2017-11-05     -1   \n",
       "92875  100342       163            201950            2019-12-15     -1   \n",
       "\n",
       "      categoria_loja localidade loja_tamanho clima  \n",
       "900           fisica         br            G   SUL  \n",
       "1596          fisica         br            P   SPO  \n",
       "1791          fisica         br            M   SUL  \n",
       "1837          fisica         br            P   RIO  \n",
       "1983          fisica         br            M   RIO  \n",
       "...              ...        ...          ...   ...  \n",
       "92827         fisica         br            G   RIO  \n",
       "92846         fisica         br            P   NOR  \n",
       "92850         fisica         br            P   SPO  \n",
       "92858         fisica         br            M   SUL  \n",
       "92875         fisica         br            M   SPO  \n",
       "\n",
       "[520 rows x 9 columns]"
      ]
     },
     "execution_count": 33,
     "metadata": {},
     "output_type": "execute_result"
    }
   ],
   "source": [
    "df[df['venda'] < 0]"
   ]
  },
  {
   "cell_type": "code",
   "execution_count": 34,
   "metadata": {},
   "outputs": [
    {
     "data": {
      "text/plain": [
       "(92877, 9)"
      ]
     },
     "execution_count": 34,
     "metadata": {},
     "output_type": "execute_result"
    }
   ],
   "source": [
    "df.shape"
   ]
  },
  {
   "attachments": {},
   "cell_type": "markdown",
   "metadata": {},
   "source": [
    "# Porcentagem de vendas por localidade"
   ]
  },
  {
   "cell_type": "code",
   "execution_count": 41,
   "metadata": {},
   "outputs": [
    {
     "ename": "ValueError",
     "evalue": "Wedge sizes 'x' must be non negative values",
     "output_type": "error",
     "traceback": [
      "\u001b[1;31m---------------------------------------------------------------------------\u001b[0m",
      "\u001b[1;31mValueError\u001b[0m                                Traceback (most recent call last)",
      "Cell \u001b[1;32mIn[41], line 6\u001b[0m\n\u001b[0;32m      3\u001b[0m colors \u001b[39m=\u001b[39m [\u001b[39m'\u001b[39m\u001b[39mpalevioletred\u001b[39m\u001b[39m'\u001b[39m, \u001b[39m'\u001b[39m\u001b[39mmediumpurple\u001b[39m\u001b[39m'\u001b[39m, \u001b[39m'\u001b[39m\u001b[39mmediumseagreen\u001b[39m\u001b[39m'\u001b[39m]\n\u001b[0;32m      5\u001b[0m fig, ax \u001b[39m=\u001b[39m plt\u001b[39m.\u001b[39msubplots(figsize\u001b[39m=\u001b[39m(\u001b[39m4\u001b[39m,\u001b[39m5\u001b[39m))\n\u001b[1;32m----> 6\u001b[0m ax\u001b[39m.\u001b[39;49mpie(df[\u001b[39m\"\u001b[39;49m\u001b[39mvenda\u001b[39;49m\u001b[39m\"\u001b[39;49m], labels\u001b[39m=\u001b[39;49mdf[\u001b[39m\"\u001b[39;49m\u001b[39mlocalidade\u001b[39;49m\u001b[39m\"\u001b[39;49m], autopct\u001b[39m=\u001b[39;49m\u001b[39m'\u001b[39;49m\u001b[39m%1.1f\u001b[39;49;00m\u001b[39m%%\u001b[39;49;00m\u001b[39m'\u001b[39;49m, startangle\u001b[39m=\u001b[39;49m\u001b[39m90\u001b[39;49m, colors\u001b[39m=\u001b[39;49mcolors, textprops\u001b[39m=\u001b[39;49m{\u001b[39m'\u001b[39;49m\u001b[39mfontsize\u001b[39;49m\u001b[39m'\u001b[39;49m: \u001b[39m13\u001b[39;49m})\n\u001b[0;32m      7\u001b[0m ax\u001b[39m.\u001b[39maxis(\u001b[39m'\u001b[39m\u001b[39mequal\u001b[39m\u001b[39m'\u001b[39m)\n\u001b[0;32m      8\u001b[0m plt\u001b[39m.\u001b[39mtitle(\u001b[39m\"\u001b[39m\u001b[39mSales Percentage across Category\u001b[39m\u001b[39m\"\u001b[39m, fontsize\u001b[39m=\u001b[39m\u001b[39m15\u001b[39m)\n",
      "File \u001b[1;32mc:\\Users\\l.gomes00\\AppData\\Local\\Programs\\Python\\Python310\\lib\\site-packages\\matplotlib\\__init__.py:1433\u001b[0m, in \u001b[0;36m_preprocess_data.<locals>.inner\u001b[1;34m(ax, data, *args, **kwargs)\u001b[0m\n\u001b[0;32m   1430\u001b[0m \u001b[39m@functools\u001b[39m\u001b[39m.\u001b[39mwraps(func)\n\u001b[0;32m   1431\u001b[0m \u001b[39mdef\u001b[39;00m \u001b[39minner\u001b[39m(ax, \u001b[39m*\u001b[39margs, data\u001b[39m=\u001b[39m\u001b[39mNone\u001b[39;00m, \u001b[39m*\u001b[39m\u001b[39m*\u001b[39mkwargs):\n\u001b[0;32m   1432\u001b[0m     \u001b[39mif\u001b[39;00m data \u001b[39mis\u001b[39;00m \u001b[39mNone\u001b[39;00m:\n\u001b[1;32m-> 1433\u001b[0m         \u001b[39mreturn\u001b[39;00m func(ax, \u001b[39m*\u001b[39m\u001b[39mmap\u001b[39m(sanitize_sequence, args), \u001b[39m*\u001b[39m\u001b[39m*\u001b[39mkwargs)\n\u001b[0;32m   1435\u001b[0m     bound \u001b[39m=\u001b[39m new_sig\u001b[39m.\u001b[39mbind(ax, \u001b[39m*\u001b[39margs, \u001b[39m*\u001b[39m\u001b[39m*\u001b[39mkwargs)\n\u001b[0;32m   1436\u001b[0m     auto_label \u001b[39m=\u001b[39m (bound\u001b[39m.\u001b[39marguments\u001b[39m.\u001b[39mget(label_namer)\n\u001b[0;32m   1437\u001b[0m                   \u001b[39mor\u001b[39;00m bound\u001b[39m.\u001b[39mkwargs\u001b[39m.\u001b[39mget(label_namer))\n",
      "File \u001b[1;32mc:\\Users\\l.gomes00\\AppData\\Local\\Programs\\Python\\Python310\\lib\\site-packages\\matplotlib\\axes\\_axes.py:3163\u001b[0m, in \u001b[0;36mAxes.pie\u001b[1;34m(self, x, explode, labels, colors, autopct, pctdistance, shadow, labeldistance, startangle, radius, counterclock, wedgeprops, textprops, center, frame, rotatelabels, normalize)\u001b[0m\n\u001b[0;32m   3160\u001b[0m     \u001b[39mraise\u001b[39;00m \u001b[39mValueError\u001b[39;00m(\u001b[39m\"\u001b[39m\u001b[39mx must be 1D\u001b[39m\u001b[39m\"\u001b[39m)\n\u001b[0;32m   3162\u001b[0m \u001b[39mif\u001b[39;00m np\u001b[39m.\u001b[39many(x \u001b[39m<\u001b[39m \u001b[39m0\u001b[39m):\n\u001b[1;32m-> 3163\u001b[0m     \u001b[39mraise\u001b[39;00m \u001b[39mValueError\u001b[39;00m(\u001b[39m\"\u001b[39m\u001b[39mWedge sizes \u001b[39m\u001b[39m'\u001b[39m\u001b[39mx\u001b[39m\u001b[39m'\u001b[39m\u001b[39m must be non negative values\u001b[39m\u001b[39m\"\u001b[39m)\n\u001b[0;32m   3165\u001b[0m sx \u001b[39m=\u001b[39m x\u001b[39m.\u001b[39msum()\n\u001b[0;32m   3167\u001b[0m \u001b[39mif\u001b[39;00m normalize:\n",
      "\u001b[1;31mValueError\u001b[0m: Wedge sizes 'x' must be non negative values"
     ]
    },
    {
     "data": {
      "image/png": "[encoded data removed]",
      "text/plain": [
       "<Figure size 400x500 with 1 Axes>"
      ]
     },
     "metadata": {},
     "output_type": "display_data"
    }
   ],
   "source": [
    "\n",
    "#TRATAR DADOS NEGATIVOS PARA PODER PLOTAR O GRÁFICO\n",
    "\n",
    "loc_percent = pd.DataFrame(df.groupby([\"localidade\"])[\"venda\"].sum().reset_index())\n",
    "colors = ['palevioletred', 'mediumpurple', 'mediumseagreen']\n",
    "\n",
    "fig, ax = plt.subplots(figsize=(4,5))\n",
    "ax.pie(df[\"venda\"], labels=df[\"localidade\"], autopct='%1.1f%%', startangle=90, colors=colors, textprops={'fontsize': 13})\n",
    "ax.axis('equal')\n",
    "plt.title(\"Sales Percentage across Category\", fontsize=15)\n",
    "plt.show()"
   ]
  },
  {
   "attachments": {},
   "cell_type": "markdown",
   "metadata": {},
   "source": [
    "# Total de vendas por clima"
   ]
  },
  {
   "cell_type": "code",
   "execution_count": 43,
   "metadata": {},
   "outputs": [],
   "source": [
    "colors = ['palevioletred', 'mediumpurple', 'mediumseagreen']\n",
    "\n",
    "plt.subplots(figsize=(10,5))\n",
    "bar = plt.bar(df[\"clima\"], df[\"venda\"], width=0.75, color=colors)\n",
    "\n",
    "sales = df[\"venda\"].tolist()\n",
    "\n",
    "i = 0\n",
    "for c in bar:\n",
    "    width = c.get_width()\n",
    "    height = c.get_height()\n",
    "    x, y = c.get_xy()\n",
    "    i += 1\n",
    "\n",
    "plt.title(\"Total de vendas entre os climas\", fontsize=15)\n",
    "plt.ylabel(\"Vendas\", fontsize=13)\n",
    "plt.xlabel(\"Clima\", fontsize=13)\n",
    "plt.show()"
   ]
  },
  {
   "attachments": {},
   "cell_type": "markdown",
   "metadata": {},
   "source": [
    "# VENDAS ENTRE OS CLIMAS PELA DATA"
   ]
  },
  {
   "attachments": {},
   "cell_type": "markdown",
   "metadata": {},
   "source": [
    "## Insights/anotações\n",
    "\n",
    "\n",
    "*   Sem dados nulos ou faltantes;\n",
    "*   Sem dados duplicados;\n",
    "*   Colunas desnecessárias para o treinamento (dropar): Item, semana_comercial (recomendação do Hollisson);\n",
    "*   Garantir que exista 1 linha por item, loja e data_semana_comercial (recomendação do Hollisson);\n",
    "*   Possuimos somente duas lojas web, mas mesmo assim a quantidade de venda é muito maior do que a venda nas lojas físicas. Talvez, seja interessante separar modelos diferentes para cada tipo de loja;\n",
    "*   Lojas web: cod 406 e 407 - todas tem: localidade = br, tamanho = gg, clima = w\n",
    "*   Temos linhas com a quantidade de venda negativa (520 de 92877), fazer o tratamento;\n"
   ]
  },
  {
   "cell_type": "code",
   "execution_count": null,
   "metadata": {},
   "outputs": [],
   "source": [
    "https://www.kaggle.com/code/josephnadar/m5-model-features\n",
    "\n",
    "https://www.kaggle.com/code/josephnadar/walmart-forecast-eda\n"
   ]
  }
 ],
 "metadata": {
  "kernelspec": {
   "display_name": "Python 3",
   "language": "python",
   "name": "python3"
  },
  "language_info": {
   "codemirror_mode": {
    "name": "ipython",
    "version": 3
   },
   "file_extension": ".py",
   "mimetype": "text/x-python",
   "name": "python",
   "nbconvert_exporter": "python",
   "pygments_lexer": "ipython3",
   "version": "3.10.9"
  },
  "orig_nbformat": 4
 },
 "nbformat": 4,
 "nbformat_minor": 2
}
