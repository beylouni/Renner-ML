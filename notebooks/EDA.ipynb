{
 "cells": [
  {
   "cell_type": "code",
   "execution_count": 1,
   "metadata": {},
   "outputs": [],
   "source": [
    "import pandas as pd\n",
    "import numpy as np\n",
    "import sklearn as sk\n",
    "import seaborn as sns\n",
    "import matplotlib.pyplot as plt\n",
    "from scipy import stats\n",
    "\n",
    "import warnings\n",
    "warnings.filterwarnings('ignore')\n"
   ]
  },
  {
   "cell_type": "code",
   "execution_count": 2,
   "metadata": {},
   "outputs": [],
   "source": [
    "%matplotlib inline"
   ]
  },
  {
   "attachments": {},
   "cell_type": "markdown",
   "metadata": {},
   "source": [
    "# Carregando os dados"
   ]
  },
  {
   "cell_type": "code",
   "execution_count": 3,
   "metadata": {},
   "outputs": [
    {
     "data": {
      "text/html": [
       "<div>\n",
       "<style scoped>\n",
       "    .dataframe tbody tr th:only-of-type {\n",
       "        vertical-align: middle;\n",
       "    }\n",
       "\n",
       "    .dataframe tbody tr th {\n",
       "        vertical-align: top;\n",
       "    }\n",
       "\n",
       "    .dataframe thead th {\n",
       "        text-align: right;\n",
       "    }\n",
       "</style>\n",
       "<table border=\"1\" class=\"dataframe\">\n",
       "  <thead>\n",
       "    <tr style=\"text-align: right;\">\n",
       "      <th></th>\n",
       "      <th>item</th>\n",
       "      <th>cod_loja</th>\n",
       "      <th>semana_comercial</th>\n",
       "      <th>data_semana_comercial</th>\n",
       "      <th>venda</th>\n",
       "      <th>categoria_loja</th>\n",
       "      <th>localidade</th>\n",
       "      <th>loja_tamanho</th>\n",
       "      <th>clima</th>\n",
       "    </tr>\n",
       "  </thead>\n",
       "  <tbody>\n",
       "    <tr>\n",
       "      <th>0</th>\n",
       "      <td>100342</td>\n",
       "      <td>58</td>\n",
       "      <td>202130</td>\n",
       "      <td>2021-07-25</td>\n",
       "      <td>51</td>\n",
       "      <td>fisica</td>\n",
       "      <td>br</td>\n",
       "      <td>G</td>\n",
       "      <td>RIO</td>\n",
       "    </tr>\n",
       "    <tr>\n",
       "      <th>1</th>\n",
       "      <td>100342</td>\n",
       "      <td>63</td>\n",
       "      <td>202221</td>\n",
       "      <td>2022-05-22</td>\n",
       "      <td>86</td>\n",
       "      <td>fisica</td>\n",
       "      <td>br</td>\n",
       "      <td>G</td>\n",
       "      <td>RIO</td>\n",
       "    </tr>\n",
       "    <tr>\n",
       "      <th>2</th>\n",
       "      <td>100342</td>\n",
       "      <td>84</td>\n",
       "      <td>202131</td>\n",
       "      <td>2021-08-01</td>\n",
       "      <td>62</td>\n",
       "      <td>fisica</td>\n",
       "      <td>br</td>\n",
       "      <td>G</td>\n",
       "      <td>RIO</td>\n",
       "    </tr>\n",
       "    <tr>\n",
       "      <th>3</th>\n",
       "      <td>100342</td>\n",
       "      <td>2</td>\n",
       "      <td>202222</td>\n",
       "      <td>2022-05-29</td>\n",
       "      <td>171</td>\n",
       "      <td>fisica</td>\n",
       "      <td>br</td>\n",
       "      <td>G</td>\n",
       "      <td>SUL</td>\n",
       "    </tr>\n",
       "    <tr>\n",
       "      <th>4</th>\n",
       "      <td>100342</td>\n",
       "      <td>407</td>\n",
       "      <td>202223</td>\n",
       "      <td>2022-06-05</td>\n",
       "      <td>188</td>\n",
       "      <td>web</td>\n",
       "      <td>br</td>\n",
       "      <td>GG</td>\n",
       "      <td>W</td>\n",
       "    </tr>\n",
       "  </tbody>\n",
       "</table>\n",
       "</div>"
      ],
      "text/plain": [
       "     item  cod_loja  semana_comercial data_semana_comercial  venda  \\\n",
       "0  100342        58            202130            2021-07-25     51   \n",
       "1  100342        63            202221            2022-05-22     86   \n",
       "2  100342        84            202131            2021-08-01     62   \n",
       "3  100342         2            202222            2022-05-29    171   \n",
       "4  100342       407            202223            2022-06-05    188   \n",
       "\n",
       "  categoria_loja localidade loja_tamanho clima  \n",
       "0         fisica         br            G   RIO  \n",
       "1         fisica         br            G   RIO  \n",
       "2         fisica         br            G   RIO  \n",
       "3         fisica         br            G   SUL  \n",
       "4            web         br           GG     W  "
      ]
     },
     "execution_count": 3,
     "metadata": {},
     "output_type": "execute_result"
    }
   ],
   "source": [
    "df = pd.read_csv('../input/renner_desafio_pucrs_treino.csv')\n",
    "df.head()"
   ]
  },
  {
   "attachments": {},
   "cell_type": "markdown",
   "metadata": {},
   "source": [
    "# Explorando os dados"
   ]
  },
  {
   "attachments": {},
   "cell_type": "markdown",
   "metadata": {},
   "source": [
    "# Porcentagem de vendas por localidade"
   ]
  },
  {
   "cell_type": "code",
   "execution_count": 4,
   "metadata": {},
   "outputs": [
    {
     "ename": "ValueError",
     "evalue": "Wedge sizes 'x' must be non negative values",
     "output_type": "error",
     "traceback": [
      "\u001b[0;31m---------------------------------------------------------------------------\u001b[0m",
      "\u001b[0;31mValueError\u001b[0m                                Traceback (most recent call last)",
      "Cell \u001b[0;32mIn[4], line 7\u001b[0m\n\u001b[1;32m      4\u001b[0m colors \u001b[39m=\u001b[39m [\u001b[39m'\u001b[39m\u001b[39mpalevioletred\u001b[39m\u001b[39m'\u001b[39m, \u001b[39m'\u001b[39m\u001b[39mmediumpurple\u001b[39m\u001b[39m'\u001b[39m, \u001b[39m'\u001b[39m\u001b[39mmediumseagreen\u001b[39m\u001b[39m'\u001b[39m]\n\u001b[1;32m      6\u001b[0m fig, ax \u001b[39m=\u001b[39m plt\u001b[39m.\u001b[39msubplots(figsize\u001b[39m=\u001b[39m(\u001b[39m4\u001b[39m,\u001b[39m5\u001b[39m))\n\u001b[0;32m----> 7\u001b[0m ax\u001b[39m.\u001b[39;49mpie(df[\u001b[39m\"\u001b[39;49m\u001b[39mvenda\u001b[39;49m\u001b[39m\"\u001b[39;49m], labels\u001b[39m=\u001b[39;49mdf[\u001b[39m\"\u001b[39;49m\u001b[39mlocalidade\u001b[39;49m\u001b[39m\"\u001b[39;49m], autopct\u001b[39m=\u001b[39;49m\u001b[39m'\u001b[39;49m\u001b[39m%1.1f\u001b[39;49;00m\u001b[39m%%\u001b[39;49;00m\u001b[39m'\u001b[39;49m, startangle\u001b[39m=\u001b[39;49m\u001b[39m90\u001b[39;49m, colors\u001b[39m=\u001b[39;49mcolors, textprops\u001b[39m=\u001b[39;49m{\u001b[39m'\u001b[39;49m\u001b[39mfontsize\u001b[39;49m\u001b[39m'\u001b[39;49m: \u001b[39m13\u001b[39;49m})\n\u001b[1;32m      8\u001b[0m ax\u001b[39m.\u001b[39maxis(\u001b[39m'\u001b[39m\u001b[39mequal\u001b[39m\u001b[39m'\u001b[39m)\n\u001b[1;32m      9\u001b[0m plt\u001b[39m.\u001b[39mtitle(\u001b[39m\"\u001b[39m\u001b[39mSales Percentage across Category\u001b[39m\u001b[39m\"\u001b[39m, fontsize\u001b[39m=\u001b[39m\u001b[39m15\u001b[39m)\n",
      "File \u001b[0;32m~/miniconda3/envs/Renner/lib/python3.10/site-packages/matplotlib/__init__.py:1442\u001b[0m, in \u001b[0;36m_preprocess_data.<locals>.inner\u001b[0;34m(ax, data, *args, **kwargs)\u001b[0m\n\u001b[1;32m   1439\u001b[0m \u001b[39m@functools\u001b[39m\u001b[39m.\u001b[39mwraps(func)\n\u001b[1;32m   1440\u001b[0m \u001b[39mdef\u001b[39;00m \u001b[39minner\u001b[39m(ax, \u001b[39m*\u001b[39margs, data\u001b[39m=\u001b[39m\u001b[39mNone\u001b[39;00m, \u001b[39m*\u001b[39m\u001b[39m*\u001b[39mkwargs):\n\u001b[1;32m   1441\u001b[0m     \u001b[39mif\u001b[39;00m data \u001b[39mis\u001b[39;00m \u001b[39mNone\u001b[39;00m:\n\u001b[0;32m-> 1442\u001b[0m         \u001b[39mreturn\u001b[39;00m func(ax, \u001b[39m*\u001b[39;49m\u001b[39mmap\u001b[39;49m(sanitize_sequence, args), \u001b[39m*\u001b[39;49m\u001b[39m*\u001b[39;49mkwargs)\n\u001b[1;32m   1444\u001b[0m     bound \u001b[39m=\u001b[39m new_sig\u001b[39m.\u001b[39mbind(ax, \u001b[39m*\u001b[39margs, \u001b[39m*\u001b[39m\u001b[39m*\u001b[39mkwargs)\n\u001b[1;32m   1445\u001b[0m     auto_label \u001b[39m=\u001b[39m (bound\u001b[39m.\u001b[39marguments\u001b[39m.\u001b[39mget(label_namer)\n\u001b[1;32m   1446\u001b[0m                   \u001b[39mor\u001b[39;00m bound\u001b[39m.\u001b[39mkwargs\u001b[39m.\u001b[39mget(label_namer))\n",
      "File \u001b[0;32m~/miniconda3/envs/Renner/lib/python3.10/site-packages/matplotlib/axes/_axes.py:3196\u001b[0m, in \u001b[0;36mAxes.pie\u001b[0;34m(self, x, explode, labels, colors, autopct, pctdistance, shadow, labeldistance, startangle, radius, counterclock, wedgeprops, textprops, center, frame, rotatelabels, normalize, hatch)\u001b[0m\n\u001b[1;32m   3193\u001b[0m     \u001b[39mraise\u001b[39;00m \u001b[39mValueError\u001b[39;00m(\u001b[39m\"\u001b[39m\u001b[39mx must be 1D\u001b[39m\u001b[39m\"\u001b[39m)\n\u001b[1;32m   3195\u001b[0m \u001b[39mif\u001b[39;00m np\u001b[39m.\u001b[39many(x \u001b[39m<\u001b[39m \u001b[39m0\u001b[39m):\n\u001b[0;32m-> 3196\u001b[0m     \u001b[39mraise\u001b[39;00m \u001b[39mValueError\u001b[39;00m(\u001b[39m\"\u001b[39m\u001b[39mWedge sizes \u001b[39m\u001b[39m'\u001b[39m\u001b[39mx\u001b[39m\u001b[39m'\u001b[39m\u001b[39m must be non negative values\u001b[39m\u001b[39m\"\u001b[39m)\n\u001b[1;32m   3198\u001b[0m sx \u001b[39m=\u001b[39m x\u001b[39m.\u001b[39msum()\n\u001b[1;32m   3200\u001b[0m \u001b[39mif\u001b[39;00m normalize:\n",
      "\u001b[0;31mValueError\u001b[0m: Wedge sizes 'x' must be non negative values"
     ]
    },
    {
     "data": {
      "image/png": "[encoded data removed]",
      "text/plain": [
       "<Figure size 400x500 with 1 Axes>"
      ]
     },
     "metadata": {},
     "output_type": "display_data"
    }
   ],
   "source": [
    "\n",
    "#TRATAR DADOS NEGATIVOS PARA PODER PLOTAR O GRÁFICO\n",
    "\n",
    "loc_percent = pd.DataFrame(df.groupby([\"localidade\"])[\"venda\"].sum().reset_index())\n",
    "colors = ['palevioletred', 'mediumpurple', 'mediumseagreen']\n",
    "\n",
    "fig, ax = plt.subplots(figsize=(4,5))\n",
    "ax.pie(df[\"venda\"], labels=df[\"localidade\"], autopct='%1.1f%%', startangle=90, colors=colors, textprops={'fontsize': 13})\n",
    "ax.axis('equal')\n",
    "plt.title(\"Sales Percentage across Category\", fontsize=15)\n",
    "plt.show()"
   ]
  },
  {
   "attachments": {},
   "cell_type": "markdown",
   "metadata": {},
   "source": [
    "# Total de vendas por clima"
   ]
  },
  {
   "cell_type": "code",
   "execution_count": 5,
   "metadata": {},
   "outputs": [
    {
     "data": {
      "image/png": "[encoded data removed]",
      "text/plain": [
       "<Figure size 1000x500 with 1 Axes>"
      ]
     },
     "metadata": {},
     "output_type": "display_data"
    }
   ],
   "source": [
    "colors = ['palevioletred', 'mediumpurple', 'mediumseagreen']\n",
    "\n",
    "plt.subplots(figsize=(10,5))\n",
    "bar = plt.bar(df[\"clima\"], df[\"venda\"], width=0.75, color=colors)\n",
    "\n",
    "sales = df[\"venda\"].tolist()\n",
    "\n",
    "i = 0\n",
    "for c in bar:\n",
    "    width = c.get_width()\n",
    "    height = c.get_height()\n",
    "    x, y = c.get_xy()\n",
    "    i += 1\n",
    "\n",
    "plt.title(\"Total de vendas entre os climas\", fontsize=15)\n",
    "plt.ylabel(\"Vendas\", fontsize=13)\n",
    "plt.xlabel(\"Clima\", fontsize=13)\n",
    "plt.show()"
   ]
  },
  {
   "attachments": {},
   "cell_type": "markdown",
   "metadata": {},
   "source": [
    "# VENDAS ENTRE OS CLIMAS PELA DATA"
   ]
  },
  {
   "cell_type": "code",
   "execution_count": null,
   "metadata": {},
   "outputs": [],
   "source": [
    "https://www.kaggle.com/code/josephnadar/m5-model-features\n",
    "\n",
    "https://www.kaggle.com/code/josephnadar/walmart-forecast-eda\n"
   ]
  }
 ],
 "metadata": {
  "kernelspec": {
   "display_name": "Python 3",
   "language": "python",
   "name": "python3"
  },
  "language_info": {
   "codemirror_mode": {
    "name": "ipython",
    "version": 3
   },
   "file_extension": ".py",
   "mimetype": "text/x-python",
   "name": "python",
   "nbconvert_exporter": "python",
   "pygments_lexer": "ipython3",
   "version": "3.10.10"
  },
  "orig_nbformat": 4
 },
 "nbformat": 4,
 "nbformat_minor": 2
}
