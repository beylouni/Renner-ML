{
 "cells": [
  {
   "cell_type": "code",
   "execution_count": 2,
   "metadata": {},
   "outputs": [],
   "source": [
    "import pandas as pd\n",
    "import numpy as np \n",
    "import matplotlib.pyplot as plt \n",
    "import seaborn as sns\n",
    "#from pandas_profiling import ProfileReport\n",
    "import warnings \n",
    "\n",
    "warnings.filterwarnings('ignore')\n",
    "%matplotlib inline"
   ]
  },
  {
   "attachments": {},
   "cell_type": "markdown",
   "metadata": {},
   "source": [
    "# Carregando os dados"
   ]
  },
  {
   "cell_type": "code",
   "execution_count": 3,
   "metadata": {},
   "outputs": [],
   "source": [
    "training = pd.read_csv('../input/renner_desafio_pucrs_treino.csv')"
   ]
  },
  {
   "attachments": {},
   "cell_type": "markdown",
   "metadata": {},
   "source": [
    "# Explorando os dados"
   ]
  },
  {
   "cell_type": "code",
   "execution_count": 4,
   "metadata": {},
   "outputs": [],
   "source": [
    "df_train = training.copy()"
   ]
  },
  {
   "cell_type": "code",
   "execution_count": null,
   "metadata": {},
   "outputs": [],
   "source": [
    "#Gerando o Profile Report\n",
    "#profile = ProfileReport(df_train)\n",
    "#profile.to_file('profile_output.html')"
   ]
  },
  {
   "cell_type": "code",
   "execution_count": 9,
   "metadata": {},
   "outputs": [
    {
     "data": {
      "text/html": [
       "<div>\n",
       "<style scoped>\n",
       "    .dataframe tbody tr th:only-of-type {\n",
       "        vertical-align: middle;\n",
       "    }\n",
       "\n",
       "    .dataframe tbody tr th {\n",
       "        vertical-align: top;\n",
       "    }\n",
       "\n",
       "    .dataframe thead th {\n",
       "        text-align: right;\n",
       "    }\n",
       "</style>\n",
       "<table border=\"1\" class=\"dataframe\">\n",
       "  <thead>\n",
       "    <tr style=\"text-align: right;\">\n",
       "      <th></th>\n",
       "      <th>item</th>\n",
       "      <th>cod_loja</th>\n",
       "      <th>semana_comercial</th>\n",
       "      <th>data_semana_comercial</th>\n",
       "      <th>venda</th>\n",
       "      <th>categoria_loja</th>\n",
       "      <th>localidade</th>\n",
       "      <th>loja_tamanho</th>\n",
       "      <th>clima</th>\n",
       "    </tr>\n",
       "  </thead>\n",
       "  <tbody>\n",
       "    <tr>\n",
       "      <th>0</th>\n",
       "      <td>100342</td>\n",
       "      <td>58</td>\n",
       "      <td>202130</td>\n",
       "      <td>2021-07-25</td>\n",
       "      <td>51</td>\n",
       "      <td>fisica</td>\n",
       "      <td>br</td>\n",
       "      <td>G</td>\n",
       "      <td>RIO</td>\n",
       "    </tr>\n",
       "    <tr>\n",
       "      <th>1</th>\n",
       "      <td>100342</td>\n",
       "      <td>63</td>\n",
       "      <td>202221</td>\n",
       "      <td>2022-05-22</td>\n",
       "      <td>86</td>\n",
       "      <td>fisica</td>\n",
       "      <td>br</td>\n",
       "      <td>G</td>\n",
       "      <td>RIO</td>\n",
       "    </tr>\n",
       "    <tr>\n",
       "      <th>2</th>\n",
       "      <td>100342</td>\n",
       "      <td>84</td>\n",
       "      <td>202131</td>\n",
       "      <td>2021-08-01</td>\n",
       "      <td>62</td>\n",
       "      <td>fisica</td>\n",
       "      <td>br</td>\n",
       "      <td>G</td>\n",
       "      <td>RIO</td>\n",
       "    </tr>\n",
       "    <tr>\n",
       "      <th>3</th>\n",
       "      <td>100342</td>\n",
       "      <td>2</td>\n",
       "      <td>202222</td>\n",
       "      <td>2022-05-29</td>\n",
       "      <td>171</td>\n",
       "      <td>fisica</td>\n",
       "      <td>br</td>\n",
       "      <td>G</td>\n",
       "      <td>SUL</td>\n",
       "    </tr>\n",
       "    <tr>\n",
       "      <th>4</th>\n",
       "      <td>100342</td>\n",
       "      <td>407</td>\n",
       "      <td>202223</td>\n",
       "      <td>2022-06-05</td>\n",
       "      <td>188</td>\n",
       "      <td>web</td>\n",
       "      <td>br</td>\n",
       "      <td>GG</td>\n",
       "      <td>W</td>\n",
       "    </tr>\n",
       "  </tbody>\n",
       "</table>\n",
       "</div>"
      ],
      "text/plain": [
       "     item  cod_loja  semana_comercial data_semana_comercial  venda  \\\n",
       "0  100342        58            202130            2021-07-25     51   \n",
       "1  100342        63            202221            2022-05-22     86   \n",
       "2  100342        84            202131            2021-08-01     62   \n",
       "3  100342         2            202222            2022-05-29    171   \n",
       "4  100342       407            202223            2022-06-05    188   \n",
       "\n",
       "  categoria_loja localidade loja_tamanho clima  \n",
       "0         fisica         br            G   RIO  \n",
       "1         fisica         br            G   RIO  \n",
       "2         fisica         br            G   RIO  \n",
       "3         fisica         br            G   SUL  \n",
       "4            web         br           GG     W  "
      ]
     },
     "execution_count": 9,
     "metadata": {},
     "output_type": "execute_result"
    }
   ],
   "source": [
    "df_train.head()"
   ]
  },
  {
   "cell_type": "code",
   "execution_count": 5,
   "metadata": {},
   "outputs": [
    {
     "name": "stdout",
     "output_type": "stream",
     "text": [
      "(92877, 9)\n"
     ]
    }
   ],
   "source": [
    "print(df_train.shape)"
   ]
  },
  {
   "cell_type": "code",
   "execution_count": 7,
   "metadata": {},
   "outputs": [
    {
     "name": "stdout",
     "output_type": "stream",
     "text": [
      "4 Colunas numéricas, 5 Colunas categóricas\n"
     ]
    }
   ],
   "source": [
    "print(\"{} Colunas numéricas, {} Colunas categóricas\".format(\n",
    "    list(df_train.select_dtypes(include=[np.number]).shape)[1],\n",
    "    list(df_train.select_dtypes(include = ['object']).shape)[1]))"
   ]
  },
  {
   "cell_type": "code",
   "execution_count": 8,
   "metadata": {},
   "outputs": [
    {
     "data": {
      "text/plain": [
       "{int64: ['item', 'cod_loja', 'semana_comercial', 'venda'], object: ['data_semana_comercial', 'categoria_loja', 'localidade', 'loja_tamanho', 'clima']}"
      ]
     },
     "execution_count": 8,
     "metadata": {},
     "output_type": "execute_result"
    }
   ],
   "source": [
    "df_train.columns.to_series().groupby(df_train.dtypes).groups"
   ]
  },
  {
   "cell_type": "code",
   "execution_count": 15,
   "metadata": {},
   "outputs": [
    {
     "name": "stdout",
     "output_type": "stream",
     "text": [
      "0 Colunas com valores faltantes: \n"
     ]
    },
    {
     "data": {
      "text/plain": [
       "[]"
      ]
     },
     "execution_count": 15,
     "metadata": {},
     "output_type": "execute_result"
    }
   ],
   "source": [
    "#Colunas com valores faltantes\n",
    "print('{} Colunas com valores faltantes: '.format(\n",
    "    len(df_train.columns[df_train.isna().any()].tolist())))\n",
    "df_train.columns[df_train.isna().any()].tolist()"
   ]
  },
  {
   "cell_type": "code",
   "execution_count": 16,
   "metadata": {},
   "outputs": [
    {
     "name": "stdout",
     "output_type": "stream",
     "text": [
      "<class 'pandas.core.frame.DataFrame'>\n",
      "RangeIndex: 92877 entries, 0 to 92876\n",
      "Data columns (total 9 columns):\n",
      " #   Column                 Non-Null Count  Dtype \n",
      "---  ------                 --------------  ----- \n",
      " 0   item                   92877 non-null  int64 \n",
      " 1   cod_loja               92877 non-null  int64 \n",
      " 2   semana_comercial       92877 non-null  int64 \n",
      " 3   data_semana_comercial  92877 non-null  object\n",
      " 4   venda                  92877 non-null  int64 \n",
      " 5   categoria_loja         92877 non-null  object\n",
      " 6   localidade             92877 non-null  object\n",
      " 7   loja_tamanho           92877 non-null  object\n",
      " 8   clima                  92877 non-null  object\n",
      "dtypes: int64(4), object(5)\n",
      "memory usage: 6.4+ MB\n"
     ]
    }
   ],
   "source": [
    "df_train.info()"
   ]
  },
  {
   "cell_type": "code",
   "execution_count": 17,
   "metadata": {},
   "outputs": [
    {
     "data": {
      "text/html": [
       "<div>\n",
       "<style scoped>\n",
       "    .dataframe tbody tr th:only-of-type {\n",
       "        vertical-align: middle;\n",
       "    }\n",
       "\n",
       "    .dataframe tbody tr th {\n",
       "        vertical-align: top;\n",
       "    }\n",
       "\n",
       "    .dataframe thead th {\n",
       "        text-align: right;\n",
       "    }\n",
       "</style>\n",
       "<table border=\"1\" class=\"dataframe\">\n",
       "  <thead>\n",
       "    <tr style=\"text-align: right;\">\n",
       "      <th></th>\n",
       "      <th>item</th>\n",
       "      <th>cod_loja</th>\n",
       "      <th>semana_comercial</th>\n",
       "      <th>venda</th>\n",
       "    </tr>\n",
       "  </thead>\n",
       "  <tbody>\n",
       "    <tr>\n",
       "      <th>count</th>\n",
       "      <td>92877.0</td>\n",
       "      <td>92877.000000</td>\n",
       "      <td>92877.000000</td>\n",
       "      <td>92877.000000</td>\n",
       "    </tr>\n",
       "    <tr>\n",
       "      <th>mean</th>\n",
       "      <td>100342.0</td>\n",
       "      <td>176.024742</td>\n",
       "      <td>201975.466036</td>\n",
       "      <td>26.485158</td>\n",
       "    </tr>\n",
       "    <tr>\n",
       "      <th>std</th>\n",
       "      <td>0.0</td>\n",
       "      <td>107.675970</td>\n",
       "      <td>163.395399</td>\n",
       "      <td>71.062728</td>\n",
       "    </tr>\n",
       "    <tr>\n",
       "      <th>min</th>\n",
       "      <td>100342.0</td>\n",
       "      <td>1.000000</td>\n",
       "      <td>201701.000000</td>\n",
       "      <td>-4.000000</td>\n",
       "    </tr>\n",
       "    <tr>\n",
       "      <th>25%</th>\n",
       "      <td>100342.0</td>\n",
       "      <td>84.000000</td>\n",
       "      <td>201831.000000</td>\n",
       "      <td>5.000000</td>\n",
       "    </tr>\n",
       "    <tr>\n",
       "      <th>50%</th>\n",
       "      <td>100342.0</td>\n",
       "      <td>170.000000</td>\n",
       "      <td>201951.000000</td>\n",
       "      <td>14.000000</td>\n",
       "    </tr>\n",
       "    <tr>\n",
       "      <th>75%</th>\n",
       "      <td>100342.0</td>\n",
       "      <td>260.000000</td>\n",
       "      <td>202123.000000</td>\n",
       "      <td>30.000000</td>\n",
       "    </tr>\n",
       "    <tr>\n",
       "      <th>max</th>\n",
       "      <td>100342.0</td>\n",
       "      <td>420.000000</td>\n",
       "      <td>202234.000000</td>\n",
       "      <td>5476.000000</td>\n",
       "    </tr>\n",
       "  </tbody>\n",
       "</table>\n",
       "</div>"
      ],
      "text/plain": [
       "           item      cod_loja  semana_comercial         venda\n",
       "count   92877.0  92877.000000      92877.000000  92877.000000\n",
       "mean   100342.0    176.024742     201975.466036     26.485158\n",
       "std         0.0    107.675970        163.395399     71.062728\n",
       "min    100342.0      1.000000     201701.000000     -4.000000\n",
       "25%    100342.0     84.000000     201831.000000      5.000000\n",
       "50%    100342.0    170.000000     201951.000000     14.000000\n",
       "75%    100342.0    260.000000     202123.000000     30.000000\n",
       "max    100342.0    420.000000     202234.000000   5476.000000"
      ]
     },
     "execution_count": 17,
     "metadata": {},
     "output_type": "execute_result"
    }
   ],
   "source": [
    "df_train.describe()"
   ]
  },
  {
   "cell_type": "code",
   "execution_count": 25,
   "metadata": {},
   "outputs": [
    {
     "data": {
      "image/png": "[encoded data removed]",
      "text/plain": [
       "<Figure size 1500x500 with 4 Axes>"
      ]
     },
     "metadata": {},
     "output_type": "display_data"
    }
   ],
   "source": [
    "df_train.hist(figsize=(15,5))\n",
    "plt.show()"
   ]
  },
  {
   "cell_type": "code",
   "execution_count": 27,
   "metadata": {},
   "outputs": [
    {
     "data": {
      "text/plain": [
       "<AxesSubplot: >"
      ]
     },
     "execution_count": 27,
     "metadata": {},
     "output_type": "execute_result"
    },
    {
     "data": {
      "image/png": "[encoded data removed]",
      "text/plain": [
       "<Figure size 1500x1000 with 2 Axes>"
      ]
     },
     "metadata": {},
     "output_type": "display_data"
    }
   ],
   "source": [
    "corr = df_train.corr()\n",
    "mask = np.zeros_like(corr)\n",
    "mask[np.triu_indices_from(mask)] = True\n",
    "\n",
    "plt.figure(figsize=(15,10))\n",
    "sns.heatmap(corr,\n",
    "            vmax=.5,\n",
    "            annot=True,\n",
    "            fmt='.2f',\n",
    "            linewidths=.2, cmap='YlGnBu')"
   ]
  },
  {
   "cell_type": "code",
   "execution_count": 28,
   "metadata": {},
   "outputs": [
    {
     "data": {
      "image/png": "[encoded data removed]",
      "text/plain": [
       "<Figure size 640x480 with 1 Axes>"
      ]
     },
     "metadata": {},
     "output_type": "display_data"
    }
   ],
   "source": [
    "#Quantidade de lojas fisicas e lojas web\n",
    "sns.countplot(x='categoria_loja', data=df_train)\n",
    "plt.show()"
   ]
  },
  {
   "cell_type": "code",
   "execution_count": 29,
   "metadata": {},
   "outputs": [
    {
     "data": {
      "text/plain": [
       "<AxesSubplot: xlabel='categoria_loja', ylabel='venda'>"
      ]
     },
     "execution_count": 29,
     "metadata": {},
     "output_type": "execute_result"
    },
    {
     "data": {
      "image/png": "[encoded data removed]",
      "text/plain": [
       "<Figure size 640x480 with 1 Axes>"
      ]
     },
     "metadata": {},
     "output_type": "display_data"
    }
   ],
   "source": [
    "#Quantidade de venda por cat. de loja\n",
    "sns.barplot(x='categoria_loja', y='venda', data=df_train)"
   ]
  },
  {
   "cell_type": "code",
   "execution_count": 33,
   "metadata": {},
   "outputs": [
    {
     "name": "stdout",
     "output_type": "stream",
     "text": [
      "Estatísticas de venda do dataset de treino:\n",
      "\n",
      "Menor # de vedas: -4.00\n",
      "Maior # de vendas: 5,476.00\n",
      "# médio de vendas: 26.49\n",
      "Mediana do # de vendas 14.00\n",
      "Desvio padrão dos # de vendas: 71.06\n"
     ]
    }
   ],
   "source": [
    "# Estatisticas da variavel alvo\n",
    "print(\"Estatísticas de venda do dataset de treino:\\n\")\n",
    "print(\"Menor # de vedas: {:,.2f}\".format(np.min(df_train['venda'])))\n",
    "print(\"Maior # de vendas: {:,.2f}\".format(np.max(df_train['venda'])))\n",
    "print(\"# médio de vendas: {:,.2f}\".format(np.mean(df_train['venda'])))\n",
    "print(\"Mediana do # de vendas {:,.2f}\".format(np.median(df_train['venda'])))\n",
    "print(\"Desvio padrão dos # de vendas: {:,.2f}\".format(np.std(df_train['venda'])))"
   ]
  },
  {
   "cell_type": "code",
   "execution_count": 35,
   "metadata": {},
   "outputs": [
    {
     "data": {
      "text/plain": [
       "<AxesSubplot: ylabel='venda'>"
      ]
     },
     "execution_count": 35,
     "metadata": {},
     "output_type": "execute_result"
    },
    {
     "data": {
      "image/png": "[encoded data removed]",
      "text/plain": [
       "<Figure size 640x480 with 1 Axes>"
      ]
     },
     "metadata": {},
     "output_type": "display_data"
    }
   ],
   "source": [
    "#Visualizando outliers\n",
    "sns.boxplot(y=df_train['venda'])"
   ]
  },
  {
   "cell_type": "code",
   "execution_count": 5,
   "metadata": {},
   "outputs": [
    {
     "data": {
      "text/html": [
       "<div>\n",
       "<style scoped>\n",
       "    .dataframe tbody tr th:only-of-type {\n",
       "        vertical-align: middle;\n",
       "    }\n",
       "\n",
       "    .dataframe tbody tr th {\n",
       "        vertical-align: top;\n",
       "    }\n",
       "\n",
       "    .dataframe thead th {\n",
       "        text-align: right;\n",
       "    }\n",
       "</style>\n",
       "<table border=\"1\" class=\"dataframe\">\n",
       "  <thead>\n",
       "    <tr style=\"text-align: right;\">\n",
       "      <th></th>\n",
       "      <th>item</th>\n",
       "      <th>cod_loja</th>\n",
       "      <th>semana_comercial</th>\n",
       "      <th>data_semana_comercial</th>\n",
       "      <th>venda</th>\n",
       "      <th>categoria_loja</th>\n",
       "      <th>localidade</th>\n",
       "      <th>loja_tamanho</th>\n",
       "      <th>clima</th>\n",
       "    </tr>\n",
       "  </thead>\n",
       "  <tbody>\n",
       "    <tr>\n",
       "      <th>900</th>\n",
       "      <td>100342</td>\n",
       "      <td>12</td>\n",
       "      <td>201743</td>\n",
       "      <td>2017-10-22</td>\n",
       "      <td>-1</td>\n",
       "      <td>fisica</td>\n",
       "      <td>br</td>\n",
       "      <td>G</td>\n",
       "      <td>SUL</td>\n",
       "    </tr>\n",
       "    <tr>\n",
       "      <th>1596</th>\n",
       "      <td>100342</td>\n",
       "      <td>321</td>\n",
       "      <td>201943</td>\n",
       "      <td>2019-10-27</td>\n",
       "      <td>-2</td>\n",
       "      <td>fisica</td>\n",
       "      <td>br</td>\n",
       "      <td>P</td>\n",
       "      <td>SPO</td>\n",
       "    </tr>\n",
       "    <tr>\n",
       "      <th>1791</th>\n",
       "      <td>100342</td>\n",
       "      <td>270</td>\n",
       "      <td>202007</td>\n",
       "      <td>2020-02-16</td>\n",
       "      <td>-1</td>\n",
       "      <td>fisica</td>\n",
       "      <td>br</td>\n",
       "      <td>M</td>\n",
       "      <td>SUL</td>\n",
       "    </tr>\n",
       "    <tr>\n",
       "      <th>1837</th>\n",
       "      <td>100342</td>\n",
       "      <td>273</td>\n",
       "      <td>202138</td>\n",
       "      <td>2021-09-19</td>\n",
       "      <td>-2</td>\n",
       "      <td>fisica</td>\n",
       "      <td>br</td>\n",
       "      <td>P</td>\n",
       "      <td>RIO</td>\n",
       "    </tr>\n",
       "    <tr>\n",
       "      <th>1983</th>\n",
       "      <td>100342</td>\n",
       "      <td>111</td>\n",
       "      <td>202203</td>\n",
       "      <td>2022-01-16</td>\n",
       "      <td>-1</td>\n",
       "      <td>fisica</td>\n",
       "      <td>br</td>\n",
       "      <td>M</td>\n",
       "      <td>RIO</td>\n",
       "    </tr>\n",
       "    <tr>\n",
       "      <th>...</th>\n",
       "      <td>...</td>\n",
       "      <td>...</td>\n",
       "      <td>...</td>\n",
       "      <td>...</td>\n",
       "      <td>...</td>\n",
       "      <td>...</td>\n",
       "      <td>...</td>\n",
       "      <td>...</td>\n",
       "      <td>...</td>\n",
       "    </tr>\n",
       "    <tr>\n",
       "      <th>92827</th>\n",
       "      <td>100342</td>\n",
       "      <td>58</td>\n",
       "      <td>202001</td>\n",
       "      <td>2020-01-05</td>\n",
       "      <td>-1</td>\n",
       "      <td>fisica</td>\n",
       "      <td>br</td>\n",
       "      <td>G</td>\n",
       "      <td>RIO</td>\n",
       "    </tr>\n",
       "    <tr>\n",
       "      <th>92846</th>\n",
       "      <td>100342</td>\n",
       "      <td>323</td>\n",
       "      <td>202145</td>\n",
       "      <td>2021-11-07</td>\n",
       "      <td>-1</td>\n",
       "      <td>fisica</td>\n",
       "      <td>br</td>\n",
       "      <td>P</td>\n",
       "      <td>NOR</td>\n",
       "    </tr>\n",
       "    <tr>\n",
       "      <th>92850</th>\n",
       "      <td>100342</td>\n",
       "      <td>171</td>\n",
       "      <td>201826</td>\n",
       "      <td>2018-07-01</td>\n",
       "      <td>-1</td>\n",
       "      <td>fisica</td>\n",
       "      <td>br</td>\n",
       "      <td>P</td>\n",
       "      <td>SPO</td>\n",
       "    </tr>\n",
       "    <tr>\n",
       "      <th>92858</th>\n",
       "      <td>100342</td>\n",
       "      <td>312</td>\n",
       "      <td>201745</td>\n",
       "      <td>2017-11-05</td>\n",
       "      <td>-1</td>\n",
       "      <td>fisica</td>\n",
       "      <td>br</td>\n",
       "      <td>M</td>\n",
       "      <td>SUL</td>\n",
       "    </tr>\n",
       "    <tr>\n",
       "      <th>92875</th>\n",
       "      <td>100342</td>\n",
       "      <td>163</td>\n",
       "      <td>201950</td>\n",
       "      <td>2019-12-15</td>\n",
       "      <td>-1</td>\n",
       "      <td>fisica</td>\n",
       "      <td>br</td>\n",
       "      <td>M</td>\n",
       "      <td>SPO</td>\n",
       "    </tr>\n",
       "  </tbody>\n",
       "</table>\n",
       "<p>520 rows × 9 columns</p>\n",
       "</div>"
      ],
      "text/plain": [
       "         item  cod_loja  semana_comercial data_semana_comercial  venda  \\\n",
       "900    100342        12            201743            2017-10-22     -1   \n",
       "1596   100342       321            201943            2019-10-27     -2   \n",
       "1791   100342       270            202007            2020-02-16     -1   \n",
       "1837   100342       273            202138            2021-09-19     -2   \n",
       "1983   100342       111            202203            2022-01-16     -1   \n",
       "...       ...       ...               ...                   ...    ...   \n",
       "92827  100342        58            202001            2020-01-05     -1   \n",
       "92846  100342       323            202145            2021-11-07     -1   \n",
       "92850  100342       171            201826            2018-07-01     -1   \n",
       "92858  100342       312            201745            2017-11-05     -1   \n",
       "92875  100342       163            201950            2019-12-15     -1   \n",
       "\n",
       "      categoria_loja localidade loja_tamanho clima  \n",
       "900           fisica         br            G   SUL  \n",
       "1596          fisica         br            P   SPO  \n",
       "1791          fisica         br            M   SUL  \n",
       "1837          fisica         br            P   RIO  \n",
       "1983          fisica         br            M   RIO  \n",
       "...              ...        ...          ...   ...  \n",
       "92827         fisica         br            G   RIO  \n",
       "92846         fisica         br            P   NOR  \n",
       "92850         fisica         br            P   SPO  \n",
       "92858         fisica         br            M   SUL  \n",
       "92875         fisica         br            M   SPO  \n",
       "\n",
       "[520 rows x 9 columns]"
      ]
     },
     "execution_count": 5,
     "metadata": {},
     "output_type": "execute_result"
    }
   ],
   "source": [
    "df_train[df_train['venda'] < 0]"
   ]
  },
  {
   "attachments": {},
   "cell_type": "markdown",
   "metadata": {},
   "source": [
    "## Insights/anotações iniciais\n",
    "\n",
    "\n",
    "*   Sem dados nulos, faltantes ou duplicados;\n",
    "*   Colunas desnecessárias para o treinamento (dropar): Item, semana_comercial (recomendação do Hollisson);\n",
    "*   Garantir que exista 1 linha por item, loja e data_semana_comercial (recomendação do Hollisson);\n",
    "*   Possuimos somente duas lojas web, mas mesmo assim a quantidade de venda é muito maior do que a venda nas lojas físicas. Talvez, seja interessante separar modelos diferentes para cada tipo de loja;\n",
    "*   Lojas web: cod 406 e 407 - todas tem: localidade = br, tamanho = gg, clima = w\n",
    "*   Temos linhas com a quantidade de venda negativa (520 de 92877), fazer o tratamento;\n"
   ]
  }
 ],
 "metadata": {
  "kernelspec": {
   "display_name": "Python 3",
   "language": "python",
   "name": "python3"
  },
  "language_info": {
   "codemirror_mode": {
    "name": "ipython",
    "version": 3
   },
   "file_extension": ".py",
   "mimetype": "text/x-python",
   "name": "python",
   "nbconvert_exporter": "python",
   "pygments_lexer": "ipython3",
   "version": "3.10.9"
  },
  "orig_nbformat": 4
 },
 "nbformat": 4,
 "nbformat_minor": 2
}
