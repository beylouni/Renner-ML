{
 "cells": [
  {
   "cell_type": "code",
   "execution_count": 40,
   "metadata": {},
   "outputs": [],
   "source": [
    "import pandas as pd\n",
    "import numpy as np \n",
    "import matplotlib.pyplot as plt \n",
    "import seaborn as sns\n",
    "#from pandas_profiling import ProfileReport\n",
    "import warnings \n",
    "\n",
    "warnings.filterwarnings('ignore')\n",
    "%matplotlib inline"
   ]
  },
  {
   "attachments": {},
   "cell_type": "markdown",
   "metadata": {},
   "source": [
    "# Carregando os dados"
   ]
  },
  {
   "cell_type": "code",
   "execution_count": 41,
   "metadata": {},
   "outputs": [],
   "source": [
    "training = pd.read_csv('../input/renner_desafio_pucrs_treino.csv')"
   ]
  },
  {
   "attachments": {},
   "cell_type": "markdown",
   "metadata": {},
   "source": [
    "# Tratamentos necessários\n",
    "1 - Dropar colunas desnecessárias: 'item', 'semana_comercial' <br>\n",
    "2 - Removendo linhas com vendas 'GS' (Guide Shop)<br>\n",
    "3 - Alterar valores negativos de venda para zero (verificar onde os zeros estao distribuidos no dataset)<br>\n",
    "4 - Alterar variaveis categóricas para variaveis numéricas<br>\n",
    "5 - Transformar 'data_semana_comercial' para datetime e colocar como índice<br>\n",
    "--------------------------------------------------------------------------------------<br>\n",
    "4 - Tratar linhas duplicadas após dropar 'semana_comercial' (Garantir uma linha por item, loja e data_semana_comercial)<br>\n",
    "7 - Separar entre dataset de treino para loja fisica e web<br>\n",
    "8 - Dropas colunas desnecessárias para o dataset web<br>"
   ]
  },
  {
   "cell_type": "code",
   "execution_count": 47,
   "metadata": {},
   "outputs": [],
   "source": [
    "df_train = training.copy()"
   ]
  },
  {
   "cell_type": "code",
   "execution_count": 57,
   "metadata": {},
   "outputs": [],
   "source": [
    "#pipeline de pré-processamento\n",
    "def sales_pipeline_v1(dataframe):\n",
    "    df_pipe = dataframe.copy()\n",
    "    print('Dataframe carregado!')\n",
    "\n",
    "    #Dropando colunas desnecessárias\n",
    "    df_pipe.drop(['item', 'semana_comercial'], axis=1, inplace=True)\n",
    "    print(\"Colunas 'item', 'semana_comercial' dropadas!\")\n",
    "\n",
    "    #Dropando linhas com vendas Guide Shop ('GS')\n",
    "    df_pipe = df_pipe.loc[df_pipe['clima'] != 'GS']\n",
    "    print('Vendas Guide Shop (GS) dropadas!')\n",
    "\n",
    "    #Alterando vendas negativas para zero\n",
    "    df_pipe.loc[df_pipe.venda < 0, 'venda'] = 0\n",
    "    print('Vendas negativas alteradas para zero!')\n",
    "\n",
    "    #Transformando variaveis categóricas em variaveis numéricas\n",
    "    df_pipe['localidade'] = df_pipe['localidade'].map({ 'br':2, 'uy':1, 'ar':0 })\n",
    "    df_pipe['loja_tamanho'] = df_pipe['loja_tamanho'].map({ 'PP':0, 'P':1, 'M':2, 'G':3, 'GG':4 })\n",
    "    df_pipe['clima'] = df_pipe['clima'].map({ 'SPO':5, 'RIO':4, 'NOR':3, 'SUL':2 ,'URU':1 ,'ARG': 0, 'W':'W'})\n",
    "    print('Variaveis categoricas transformadas em numéricas!')\n",
    "\n",
    "    #Transformando a coluna 'data_semana_comercial' em datetime e index do dataframe\n",
    "    date = pd.to_datetime(df_train['data_semana_comercial'])\n",
    "    df_train.index = date\n",
    "    print(\"coluna 'data_semana_comercial' transformada em datetime e index do dataframe\")\n",
    "\n",
    "    #Tratando dataset para lojas web\n",
    "    df_web = df_pipe[df_pipe['categoria_loja'] == 'web']\n",
    "    del df_web['categoria_loja']\n",
    "    del df_web['clima']\n",
    "    del df_web['localidade']\n",
    "    del df_web['loja_tamanho']\n",
    "    print('Dataset de treino para lojas web criado')\n",
    "    \n",
    "\n",
    "    #Tratando dataset para lojas web\n",
    "    df_fisica = df_pipe[df_pipe['categoria_loja'] == 'fisica']\n",
    "    del df_fisica['categoria_loja']\n",
    "    print('Dataset de treino para lojas fisicas criado')\n",
    "    \n",
    "    #Criando csv's com os dados tratados e separados\n",
    "    df_web.to_csv('../input/clean_data/renner_web_treino.csv')\n",
    "    df_fisica.to_csv('../input/clean_data/renner_fisica_treino.csv')\n",
    "    print('CSVs criados e salvos na pasta input/clean_data')\n",
    "    return df_web, df_fisica\n"
   ]
  },
  {
   "cell_type": "code",
   "execution_count": 58,
   "metadata": {},
   "outputs": [
    {
     "name": "stdout",
     "output_type": "stream",
     "text": [
      "Dataframe carregado!\n",
      "Colunas 'item', 'semana_comercial' dropadas!\n",
      "Vendas Guide Shop (GS) dropadas!\n",
      "Vendas negativas alteradas para zero!\n",
      "Variaveis categoricas transformadas em numéricas!\n",
      "coluna 'data_semana_comercial' transformada em datetime e index do dataframe\n",
      "Dataset de treino para lojas web criado\n",
      "Dataset de treino para lojas fisicas criado\n",
      "CSVs criados e salvos na pasta input/clean_data\n"
     ]
    }
   ],
   "source": [
    "df_web, df_fisica = sales_pipeline_v1(df_train)"
   ]
  },
  {
   "cell_type": "code",
   "execution_count": 59,
   "metadata": {},
   "outputs": [
    {
     "data": {
      "text/html": [
       "<div>\n",
       "<style scoped>\n",
       "    .dataframe tbody tr th:only-of-type {\n",
       "        vertical-align: middle;\n",
       "    }\n",
       "\n",
       "    .dataframe tbody tr th {\n",
       "        vertical-align: top;\n",
       "    }\n",
       "\n",
       "    .dataframe thead th {\n",
       "        text-align: right;\n",
       "    }\n",
       "</style>\n",
       "<table border=\"1\" class=\"dataframe\">\n",
       "  <thead>\n",
       "    <tr style=\"text-align: right;\">\n",
       "      <th></th>\n",
       "      <th>cod_loja</th>\n",
       "      <th>data_semana_comercial</th>\n",
       "      <th>venda</th>\n",
       "    </tr>\n",
       "    <tr>\n",
       "      <th>data_semana_comercial</th>\n",
       "      <th></th>\n",
       "      <th></th>\n",
       "      <th></th>\n",
       "    </tr>\n",
       "  </thead>\n",
       "  <tbody>\n",
       "    <tr>\n",
       "      <th>2022-06-05</th>\n",
       "      <td>407</td>\n",
       "      <td>2022-06-05</td>\n",
       "      <td>188</td>\n",
       "    </tr>\n",
       "    <tr>\n",
       "      <th>2021-05-23</th>\n",
       "      <td>407</td>\n",
       "      <td>2021-05-23</td>\n",
       "      <td>136</td>\n",
       "    </tr>\n",
       "    <tr>\n",
       "      <th>2021-05-30</th>\n",
       "      <td>406</td>\n",
       "      <td>2021-05-30</td>\n",
       "      <td>926</td>\n",
       "    </tr>\n",
       "    <tr>\n",
       "      <th>2022-04-03</th>\n",
       "      <td>407</td>\n",
       "      <td>2022-04-03</td>\n",
       "      <td>152</td>\n",
       "    </tr>\n",
       "    <tr>\n",
       "      <th>2022-07-24</th>\n",
       "      <td>407</td>\n",
       "      <td>2022-07-24</td>\n",
       "      <td>33</td>\n",
       "    </tr>\n",
       "  </tbody>\n",
       "</table>\n",
       "</div>"
      ],
      "text/plain": [
       "                       cod_loja data_semana_comercial  venda\n",
       "data_semana_comercial                                       \n",
       "2022-06-05                  407            2022-06-05    188\n",
       "2021-05-23                  407            2021-05-23    136\n",
       "2021-05-30                  406            2021-05-30    926\n",
       "2022-04-03                  407            2022-04-03    152\n",
       "2022-07-24                  407            2022-07-24     33"
      ]
     },
     "execution_count": 59,
     "metadata": {},
     "output_type": "execute_result"
    }
   ],
   "source": [
    "df_web.head()"
   ]
  },
  {
   "cell_type": "code",
   "execution_count": 60,
   "metadata": {},
   "outputs": [
    {
     "data": {
      "text/html": [
       "<div>\n",
       "<style scoped>\n",
       "    .dataframe tbody tr th:only-of-type {\n",
       "        vertical-align: middle;\n",
       "    }\n",
       "\n",
       "    .dataframe tbody tr th {\n",
       "        vertical-align: top;\n",
       "    }\n",
       "\n",
       "    .dataframe thead th {\n",
       "        text-align: right;\n",
       "    }\n",
       "</style>\n",
       "<table border=\"1\" class=\"dataframe\">\n",
       "  <thead>\n",
       "    <tr style=\"text-align: right;\">\n",
       "      <th></th>\n",
       "      <th>cod_loja</th>\n",
       "      <th>data_semana_comercial</th>\n",
       "      <th>venda</th>\n",
       "      <th>localidade</th>\n",
       "      <th>loja_tamanho</th>\n",
       "      <th>clima</th>\n",
       "    </tr>\n",
       "    <tr>\n",
       "      <th>data_semana_comercial</th>\n",
       "      <th></th>\n",
       "      <th></th>\n",
       "      <th></th>\n",
       "      <th></th>\n",
       "      <th></th>\n",
       "      <th></th>\n",
       "    </tr>\n",
       "  </thead>\n",
       "  <tbody>\n",
       "    <tr>\n",
       "      <th>2021-07-25</th>\n",
       "      <td>58</td>\n",
       "      <td>2021-07-25</td>\n",
       "      <td>51</td>\n",
       "      <td>2</td>\n",
       "      <td>3</td>\n",
       "      <td>4</td>\n",
       "    </tr>\n",
       "    <tr>\n",
       "      <th>2022-05-22</th>\n",
       "      <td>63</td>\n",
       "      <td>2022-05-22</td>\n",
       "      <td>86</td>\n",
       "      <td>2</td>\n",
       "      <td>3</td>\n",
       "      <td>4</td>\n",
       "    </tr>\n",
       "    <tr>\n",
       "      <th>2021-08-01</th>\n",
       "      <td>84</td>\n",
       "      <td>2021-08-01</td>\n",
       "      <td>62</td>\n",
       "      <td>2</td>\n",
       "      <td>3</td>\n",
       "      <td>4</td>\n",
       "    </tr>\n",
       "    <tr>\n",
       "      <th>2022-05-29</th>\n",
       "      <td>2</td>\n",
       "      <td>2022-05-29</td>\n",
       "      <td>171</td>\n",
       "      <td>2</td>\n",
       "      <td>3</td>\n",
       "      <td>2</td>\n",
       "    </tr>\n",
       "    <tr>\n",
       "      <th>2021-08-08</th>\n",
       "      <td>35</td>\n",
       "      <td>2021-08-08</td>\n",
       "      <td>13</td>\n",
       "      <td>2</td>\n",
       "      <td>3</td>\n",
       "      <td>5</td>\n",
       "    </tr>\n",
       "  </tbody>\n",
       "</table>\n",
       "</div>"
      ],
      "text/plain": [
       "                       cod_loja data_semana_comercial  venda  localidade  \\\n",
       "data_semana_comercial                                                      \n",
       "2021-07-25                   58            2021-07-25     51           2   \n",
       "2022-05-22                   63            2022-05-22     86           2   \n",
       "2021-08-01                   84            2021-08-01     62           2   \n",
       "2022-05-29                    2            2022-05-29    171           2   \n",
       "2021-08-08                   35            2021-08-08     13           2   \n",
       "\n",
       "                       loja_tamanho clima  \n",
       "data_semana_comercial                      \n",
       "2021-07-25                        3     4  \n",
       "2022-05-22                        3     4  \n",
       "2021-08-01                        3     4  \n",
       "2022-05-29                        3     2  \n",
       "2021-08-08                        3     5  "
      ]
     },
     "execution_count": 60,
     "metadata": {},
     "output_type": "execute_result"
    }
   ],
   "source": [
    "df_fisica.head()"
   ]
  },
  {
   "attachments": {},
   "cell_type": "markdown",
   "metadata": {},
   "source": [
    "### Próximos passos:\n",
    "* verificar a distribuição dos zeros(das vendas negativas) no novo dataset, para não criar vies na previsão de alguma regiao, loja, etc \n",
    "* verificar se o groupby abaixo está funcionando\n",
    "* talvez testar mudar a escala das features caso os modelos nao funcionem bem\n"
   ]
  },
  {
   "cell_type": "code",
   "execution_count": 76,
   "metadata": {},
   "outputs": [],
   "source": [
    "df_agrupado = df.groupby('data_semana_comercial').agg(\n",
    "                                                    {'venda': 'sum', \n",
    "                                                    'cod_loja': 'first', \n",
    "                                                    'categoria_loja': 'first', \n",
    "                                                    'localidade': 'first', \n",
    "                                                    'loja_tamanho': 'first', \n",
    "                                                    'clima': 'first'}).reset_index()"
   ]
  },
  {
   "cell_type": "code",
   "execution_count": 78,
   "metadata": {},
   "outputs": [
    {
     "data": {
      "text/html": [
       "<div>\n",
       "<style scoped>\n",
       "    .dataframe tbody tr th:only-of-type {\n",
       "        vertical-align: middle;\n",
       "    }\n",
       "\n",
       "    .dataframe tbody tr th {\n",
       "        vertical-align: top;\n",
       "    }\n",
       "\n",
       "    .dataframe thead th {\n",
       "        text-align: right;\n",
       "    }\n",
       "</style>\n",
       "<table border=\"1\" class=\"dataframe\">\n",
       "  <thead>\n",
       "    <tr style=\"text-align: right;\">\n",
       "      <th></th>\n",
       "      <th>data_semana_comercial</th>\n",
       "      <th>venda</th>\n",
       "      <th>cod_loja</th>\n",
       "      <th>categoria_loja</th>\n",
       "      <th>localidade</th>\n",
       "      <th>loja_tamanho</th>\n",
       "      <th>clima</th>\n",
       "    </tr>\n",
       "  </thead>\n",
       "  <tbody>\n",
       "    <tr>\n",
       "      <th>0</th>\n",
       "      <td>2017-01-01</td>\n",
       "      <td>384</td>\n",
       "      <td>47</td>\n",
       "      <td>fisica</td>\n",
       "      <td>br</td>\n",
       "      <td>M</td>\n",
       "      <td>SPO</td>\n",
       "    </tr>\n",
       "    <tr>\n",
       "      <th>1</th>\n",
       "      <td>2017-01-08</td>\n",
       "      <td>344</td>\n",
       "      <td>150</td>\n",
       "      <td>fisica</td>\n",
       "      <td>br</td>\n",
       "      <td>G</td>\n",
       "      <td>RIO</td>\n",
       "    </tr>\n",
       "    <tr>\n",
       "      <th>2</th>\n",
       "      <td>2017-01-15</td>\n",
       "      <td>289</td>\n",
       "      <td>132</td>\n",
       "      <td>fisica</td>\n",
       "      <td>br</td>\n",
       "      <td>P</td>\n",
       "      <td>SUL</td>\n",
       "    </tr>\n",
       "    <tr>\n",
       "      <th>3</th>\n",
       "      <td>2017-01-22</td>\n",
       "      <td>305</td>\n",
       "      <td>43</td>\n",
       "      <td>fisica</td>\n",
       "      <td>br</td>\n",
       "      <td>M</td>\n",
       "      <td>SPO</td>\n",
       "    </tr>\n",
       "    <tr>\n",
       "      <th>4</th>\n",
       "      <td>2017-01-29</td>\n",
       "      <td>848</td>\n",
       "      <td>67</td>\n",
       "      <td>fisica</td>\n",
       "      <td>br</td>\n",
       "      <td>M</td>\n",
       "      <td>SUL</td>\n",
       "    </tr>\n",
       "  </tbody>\n",
       "</table>\n",
       "</div>"
      ],
      "text/plain": [
       "  data_semana_comercial  venda  cod_loja categoria_loja localidade  \\\n",
       "0            2017-01-01    384        47         fisica         br   \n",
       "1            2017-01-08    344       150         fisica         br   \n",
       "2            2017-01-15    289       132         fisica         br   \n",
       "3            2017-01-22    305        43         fisica         br   \n",
       "4            2017-01-29    848        67         fisica         br   \n",
       "\n",
       "  loja_tamanho clima  \n",
       "0            M   SPO  \n",
       "1            G   RIO  \n",
       "2            P   SUL  \n",
       "3            M   SPO  \n",
       "4            M   SUL  "
      ]
     },
     "execution_count": 78,
     "metadata": {},
     "output_type": "execute_result"
    }
   ],
   "source": [
    "df_agrupado.head()"
   ]
  },
  {
   "cell_type": "code",
   "execution_count": 81,
   "metadata": {},
   "outputs": [
    {
     "data": {
      "text/plain": [
       "(295, 7)"
      ]
     },
     "execution_count": 81,
     "metadata": {},
     "output_type": "execute_result"
    }
   ],
   "source": [
    "df_agrupado.shape"
   ]
  }
 ],
 "metadata": {
  "kernelspec": {
   "display_name": "Python 3",
   "language": "python",
   "name": "python3"
  },
  "language_info": {
   "codemirror_mode": {
    "name": "ipython",
    "version": 3
   },
   "file_extension": ".py",
   "mimetype": "text/x-python",
   "name": "python",
   "nbconvert_exporter": "python",
   "pygments_lexer": "ipython3",
   "version": "3.10.9"
  },
  "orig_nbformat": 4
 },
 "nbformat": 4,
 "nbformat_minor": 2
}
