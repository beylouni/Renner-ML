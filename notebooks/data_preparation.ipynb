{
 "cells": [
  {
   "cell_type": "code",
   "execution_count": 90,
   "metadata": {},
   "outputs": [],
   "source": [
    "import pandas as pd\n",
    "import numpy as np \n",
    "import matplotlib.pyplot as plt \n",
    "import seaborn as sns\n",
    "#from pandas_profiling import ProfileReport\n",
    "import warnings \n",
    "\n",
    "warnings.filterwarnings('ignore')\n",
    "%matplotlib inline"
   ]
  },
  {
   "attachments": {},
   "cell_type": "markdown",
   "metadata": {},
   "source": [
    "# Carregando os dados"
   ]
  },
  {
   "cell_type": "code",
   "execution_count": 91,
   "metadata": {},
   "outputs": [
    {
     "data": {
      "text/html": [
       "<div>\n",
       "<style scoped>\n",
       "    .dataframe tbody tr th:only-of-type {\n",
       "        vertical-align: middle;\n",
       "    }\n",
       "\n",
       "    .dataframe tbody tr th {\n",
       "        vertical-align: top;\n",
       "    }\n",
       "\n",
       "    .dataframe thead th {\n",
       "        text-align: right;\n",
       "    }\n",
       "</style>\n",
       "<table border=\"1\" class=\"dataframe\">\n",
       "  <thead>\n",
       "    <tr style=\"text-align: right;\">\n",
       "      <th></th>\n",
       "      <th>item</th>\n",
       "      <th>cod_loja</th>\n",
       "      <th>semana_comercial</th>\n",
       "      <th>data_semana_comercial</th>\n",
       "      <th>venda</th>\n",
       "      <th>categoria_loja</th>\n",
       "      <th>localidade</th>\n",
       "      <th>loja_tamanho</th>\n",
       "      <th>clima</th>\n",
       "    </tr>\n",
       "  </thead>\n",
       "  <tbody>\n",
       "    <tr>\n",
       "      <th>0</th>\n",
       "      <td>100342</td>\n",
       "      <td>58</td>\n",
       "      <td>202130</td>\n",
       "      <td>2021-07-25</td>\n",
       "      <td>51</td>\n",
       "      <td>fisica</td>\n",
       "      <td>br</td>\n",
       "      <td>G</td>\n",
       "      <td>RIO</td>\n",
       "    </tr>\n",
       "    <tr>\n",
       "      <th>1</th>\n",
       "      <td>100342</td>\n",
       "      <td>63</td>\n",
       "      <td>202221</td>\n",
       "      <td>2022-05-22</td>\n",
       "      <td>86</td>\n",
       "      <td>fisica</td>\n",
       "      <td>br</td>\n",
       "      <td>G</td>\n",
       "      <td>RIO</td>\n",
       "    </tr>\n",
       "    <tr>\n",
       "      <th>2</th>\n",
       "      <td>100342</td>\n",
       "      <td>84</td>\n",
       "      <td>202131</td>\n",
       "      <td>2021-08-01</td>\n",
       "      <td>62</td>\n",
       "      <td>fisica</td>\n",
       "      <td>br</td>\n",
       "      <td>G</td>\n",
       "      <td>RIO</td>\n",
       "    </tr>\n",
       "    <tr>\n",
       "      <th>3</th>\n",
       "      <td>100342</td>\n",
       "      <td>2</td>\n",
       "      <td>202222</td>\n",
       "      <td>2022-05-29</td>\n",
       "      <td>171</td>\n",
       "      <td>fisica</td>\n",
       "      <td>br</td>\n",
       "      <td>G</td>\n",
       "      <td>SUL</td>\n",
       "    </tr>\n",
       "    <tr>\n",
       "      <th>4</th>\n",
       "      <td>100342</td>\n",
       "      <td>407</td>\n",
       "      <td>202223</td>\n",
       "      <td>2022-06-05</td>\n",
       "      <td>188</td>\n",
       "      <td>web</td>\n",
       "      <td>br</td>\n",
       "      <td>GG</td>\n",
       "      <td>W</td>\n",
       "    </tr>\n",
       "  </tbody>\n",
       "</table>\n",
       "</div>"
      ],
      "text/plain": [
       "     item  cod_loja  semana_comercial data_semana_comercial  venda  \\\n",
       "0  100342        58            202130            2021-07-25     51   \n",
       "1  100342        63            202221            2022-05-22     86   \n",
       "2  100342        84            202131            2021-08-01     62   \n",
       "3  100342         2            202222            2022-05-29    171   \n",
       "4  100342       407            202223            2022-06-05    188   \n",
       "\n",
       "  categoria_loja localidade loja_tamanho clima  \n",
       "0         fisica         br            G   RIO  \n",
       "1         fisica         br            G   RIO  \n",
       "2         fisica         br            G   RIO  \n",
       "3         fisica         br            G   SUL  \n",
       "4            web         br           GG     W  "
      ]
     },
     "execution_count": 91,
     "metadata": {},
     "output_type": "execute_result"
    }
   ],
   "source": [
    "df = pd.read_csv('../input/renner_desafio_pucrs_treino.csv')\n",
    "df.head()"
   ]
  },
  {
   "attachments": {},
   "cell_type": "markdown",
   "metadata": {},
   "source": [
    "# Explorando os dados"
   ]
  },
  {
   "cell_type": "code",
   "execution_count": null,
   "metadata": {},
   "outputs": [],
   "source": [
    "#Gerando o Profile Report\n",
    "#profile = ProfileReport(df)\n",
    "#profile.to_file('profile_output.html')"
   ]
  },
  {
   "cell_type": "code",
   "execution_count": 51,
   "metadata": {},
   "outputs": [
    {
     "data": {
      "text/plain": [
       "(92877, 9)"
      ]
     },
     "execution_count": 51,
     "metadata": {},
     "output_type": "execute_result"
    }
   ],
   "source": [
    "df.shape"
   ]
  },
  {
   "cell_type": "code",
   "execution_count": 53,
   "metadata": {},
   "outputs": [
    {
     "name": "stdout",
     "output_type": "stream",
     "text": [
      "<class 'pandas.core.frame.DataFrame'>\n",
      "RangeIndex: 92877 entries, 0 to 92876\n",
      "Data columns (total 9 columns):\n",
      " #   Column                 Non-Null Count  Dtype \n",
      "---  ------                 --------------  ----- \n",
      " 0   item                   92877 non-null  int64 \n",
      " 1   cod_loja               92877 non-null  int64 \n",
      " 2   semana_comercial       92877 non-null  int64 \n",
      " 3   data_semana_comercial  92877 non-null  object\n",
      " 4   venda                  92877 non-null  int64 \n",
      " 5   categoria_loja         92877 non-null  object\n",
      " 6   localidade             92877 non-null  object\n",
      " 7   loja_tamanho           92877 non-null  object\n",
      " 8   clima                  92877 non-null  object\n",
      "dtypes: int64(4), object(5)\n",
      "memory usage: 6.4+ MB\n"
     ]
    }
   ],
   "source": [
    "df.info()"
   ]
  },
  {
   "cell_type": "code",
   "execution_count": 54,
   "metadata": {},
   "outputs": [
    {
     "data": {
      "text/plain": [
       "item                     0\n",
       "cod_loja                 0\n",
       "semana_comercial         0\n",
       "data_semana_comercial    0\n",
       "venda                    0\n",
       "categoria_loja           0\n",
       "localidade               0\n",
       "loja_tamanho             0\n",
       "clima                    0\n",
       "dtype: int64"
      ]
     },
     "execution_count": 54,
     "metadata": {},
     "output_type": "execute_result"
    }
   ],
   "source": [
    "df.isna().sum()"
   ]
  },
  {
   "cell_type": "code",
   "execution_count": 55,
   "metadata": {},
   "outputs": [
    {
     "data": {
      "text/html": [
       "<div>\n",
       "<style scoped>\n",
       "    .dataframe tbody tr th:only-of-type {\n",
       "        vertical-align: middle;\n",
       "    }\n",
       "\n",
       "    .dataframe tbody tr th {\n",
       "        vertical-align: top;\n",
       "    }\n",
       "\n",
       "    .dataframe thead th {\n",
       "        text-align: right;\n",
       "    }\n",
       "</style>\n",
       "<table border=\"1\" class=\"dataframe\">\n",
       "  <thead>\n",
       "    <tr style=\"text-align: right;\">\n",
       "      <th></th>\n",
       "      <th>item</th>\n",
       "      <th>cod_loja</th>\n",
       "      <th>semana_comercial</th>\n",
       "      <th>venda</th>\n",
       "    </tr>\n",
       "  </thead>\n",
       "  <tbody>\n",
       "    <tr>\n",
       "      <th>count</th>\n",
       "      <td>92877.0</td>\n",
       "      <td>92877.000000</td>\n",
       "      <td>92877.000000</td>\n",
       "      <td>92877.000000</td>\n",
       "    </tr>\n",
       "    <tr>\n",
       "      <th>mean</th>\n",
       "      <td>100342.0</td>\n",
       "      <td>176.024742</td>\n",
       "      <td>201975.466036</td>\n",
       "      <td>26.485158</td>\n",
       "    </tr>\n",
       "    <tr>\n",
       "      <th>std</th>\n",
       "      <td>0.0</td>\n",
       "      <td>107.675970</td>\n",
       "      <td>163.395399</td>\n",
       "      <td>71.062728</td>\n",
       "    </tr>\n",
       "    <tr>\n",
       "      <th>min</th>\n",
       "      <td>100342.0</td>\n",
       "      <td>1.000000</td>\n",
       "      <td>201701.000000</td>\n",
       "      <td>-4.000000</td>\n",
       "    </tr>\n",
       "    <tr>\n",
       "      <th>25%</th>\n",
       "      <td>100342.0</td>\n",
       "      <td>84.000000</td>\n",
       "      <td>201831.000000</td>\n",
       "      <td>5.000000</td>\n",
       "    </tr>\n",
       "    <tr>\n",
       "      <th>50%</th>\n",
       "      <td>100342.0</td>\n",
       "      <td>170.000000</td>\n",
       "      <td>201951.000000</td>\n",
       "      <td>14.000000</td>\n",
       "    </tr>\n",
       "    <tr>\n",
       "      <th>75%</th>\n",
       "      <td>100342.0</td>\n",
       "      <td>260.000000</td>\n",
       "      <td>202123.000000</td>\n",
       "      <td>30.000000</td>\n",
       "    </tr>\n",
       "    <tr>\n",
       "      <th>max</th>\n",
       "      <td>100342.0</td>\n",
       "      <td>420.000000</td>\n",
       "      <td>202234.000000</td>\n",
       "      <td>5476.000000</td>\n",
       "    </tr>\n",
       "  </tbody>\n",
       "</table>\n",
       "</div>"
      ],
      "text/plain": [
       "           item      cod_loja  semana_comercial         venda\n",
       "count   92877.0  92877.000000      92877.000000  92877.000000\n",
       "mean   100342.0    176.024742     201975.466036     26.485158\n",
       "std         0.0    107.675970        163.395399     71.062728\n",
       "min    100342.0      1.000000     201701.000000     -4.000000\n",
       "25%    100342.0     84.000000     201831.000000      5.000000\n",
       "50%    100342.0    170.000000     201951.000000     14.000000\n",
       "75%    100342.0    260.000000     202123.000000     30.000000\n",
       "max    100342.0    420.000000     202234.000000   5476.000000"
      ]
     },
     "execution_count": 55,
     "metadata": {},
     "output_type": "execute_result"
    }
   ],
   "source": [
    "df.describe()"
   ]
  },
  {
   "cell_type": "code",
   "execution_count": 60,
   "metadata": {},
   "outputs": [
    {
     "data": {
      "image/png": "[encoded data removed]",
      "text/plain": [
       "<Figure size 640x480 with 1 Axes>"
      ]
     },
     "metadata": {},
     "output_type": "display_data"
    }
   ],
   "source": [
    "#Quantidade de lojas fisicas e lojas web\n",
    "sns.countplot(x='categoria_loja', data=df)\n",
    "plt.show()"
   ]
  },
  {
   "cell_type": "code",
   "execution_count": 61,
   "metadata": {},
   "outputs": [
    {
     "data": {
      "text/plain": [
       "<AxesSubplot: xlabel='categoria_loja', ylabel='venda'>"
      ]
     },
     "execution_count": 61,
     "metadata": {},
     "output_type": "execute_result"
    },
    {
     "data": {
      "image/png": "[encoded data removed]",
      "text/plain": [
       "<Figure size 640x480 with 1 Axes>"
      ]
     },
     "metadata": {},
     "output_type": "display_data"
    }
   ],
   "source": [
    "#Quantidade de venda por cat. de loja\n",
    "sns.barplot(x='categoria_loja', y='venda', data=df)"
   ]
  },
  {
   "cell_type": "code",
   "execution_count": 65,
   "metadata": {},
   "outputs": [
    {
     "name": "stdout",
     "output_type": "stream",
     "text": [
      "-4\n",
      "5476\n"
     ]
    }
   ],
   "source": [
    "#Veficando valores máximos e mínios\n",
    "print(df['venda'].min())\n",
    "print(df['venda'].max())"
   ]
  },
  {
   "cell_type": "code",
   "execution_count": 63,
   "metadata": {},
   "outputs": [
    {
     "data": {
      "text/html": [
       "<div>\n",
       "<style scoped>\n",
       "    .dataframe tbody tr th:only-of-type {\n",
       "        vertical-align: middle;\n",
       "    }\n",
       "\n",
       "    .dataframe tbody tr th {\n",
       "        vertical-align: top;\n",
       "    }\n",
       "\n",
       "    .dataframe thead th {\n",
       "        text-align: right;\n",
       "    }\n",
       "</style>\n",
       "<table border=\"1\" class=\"dataframe\">\n",
       "  <thead>\n",
       "    <tr style=\"text-align: right;\">\n",
       "      <th></th>\n",
       "      <th>item</th>\n",
       "      <th>cod_loja</th>\n",
       "      <th>semana_comercial</th>\n",
       "      <th>data_semana_comercial</th>\n",
       "      <th>venda</th>\n",
       "      <th>categoria_loja</th>\n",
       "      <th>localidade</th>\n",
       "      <th>loja_tamanho</th>\n",
       "      <th>clima</th>\n",
       "    </tr>\n",
       "  </thead>\n",
       "  <tbody>\n",
       "    <tr>\n",
       "      <th>900</th>\n",
       "      <td>100342</td>\n",
       "      <td>12</td>\n",
       "      <td>201743</td>\n",
       "      <td>2017-10-22</td>\n",
       "      <td>-1</td>\n",
       "      <td>fisica</td>\n",
       "      <td>br</td>\n",
       "      <td>G</td>\n",
       "      <td>SUL</td>\n",
       "    </tr>\n",
       "    <tr>\n",
       "      <th>1596</th>\n",
       "      <td>100342</td>\n",
       "      <td>321</td>\n",
       "      <td>201943</td>\n",
       "      <td>2019-10-27</td>\n",
       "      <td>-2</td>\n",
       "      <td>fisica</td>\n",
       "      <td>br</td>\n",
       "      <td>P</td>\n",
       "      <td>SPO</td>\n",
       "    </tr>\n",
       "    <tr>\n",
       "      <th>1791</th>\n",
       "      <td>100342</td>\n",
       "      <td>270</td>\n",
       "      <td>202007</td>\n",
       "      <td>2020-02-16</td>\n",
       "      <td>-1</td>\n",
       "      <td>fisica</td>\n",
       "      <td>br</td>\n",
       "      <td>M</td>\n",
       "      <td>SUL</td>\n",
       "    </tr>\n",
       "    <tr>\n",
       "      <th>1837</th>\n",
       "      <td>100342</td>\n",
       "      <td>273</td>\n",
       "      <td>202138</td>\n",
       "      <td>2021-09-19</td>\n",
       "      <td>-2</td>\n",
       "      <td>fisica</td>\n",
       "      <td>br</td>\n",
       "      <td>P</td>\n",
       "      <td>RIO</td>\n",
       "    </tr>\n",
       "    <tr>\n",
       "      <th>1983</th>\n",
       "      <td>100342</td>\n",
       "      <td>111</td>\n",
       "      <td>202203</td>\n",
       "      <td>2022-01-16</td>\n",
       "      <td>-1</td>\n",
       "      <td>fisica</td>\n",
       "      <td>br</td>\n",
       "      <td>M</td>\n",
       "      <td>RIO</td>\n",
       "    </tr>\n",
       "    <tr>\n",
       "      <th>...</th>\n",
       "      <td>...</td>\n",
       "      <td>...</td>\n",
       "      <td>...</td>\n",
       "      <td>...</td>\n",
       "      <td>...</td>\n",
       "      <td>...</td>\n",
       "      <td>...</td>\n",
       "      <td>...</td>\n",
       "      <td>...</td>\n",
       "    </tr>\n",
       "    <tr>\n",
       "      <th>92827</th>\n",
       "      <td>100342</td>\n",
       "      <td>58</td>\n",
       "      <td>202001</td>\n",
       "      <td>2020-01-05</td>\n",
       "      <td>-1</td>\n",
       "      <td>fisica</td>\n",
       "      <td>br</td>\n",
       "      <td>G</td>\n",
       "      <td>RIO</td>\n",
       "    </tr>\n",
       "    <tr>\n",
       "      <th>92846</th>\n",
       "      <td>100342</td>\n",
       "      <td>323</td>\n",
       "      <td>202145</td>\n",
       "      <td>2021-11-07</td>\n",
       "      <td>-1</td>\n",
       "      <td>fisica</td>\n",
       "      <td>br</td>\n",
       "      <td>P</td>\n",
       "      <td>NOR</td>\n",
       "    </tr>\n",
       "    <tr>\n",
       "      <th>92850</th>\n",
       "      <td>100342</td>\n",
       "      <td>171</td>\n",
       "      <td>201826</td>\n",
       "      <td>2018-07-01</td>\n",
       "      <td>-1</td>\n",
       "      <td>fisica</td>\n",
       "      <td>br</td>\n",
       "      <td>P</td>\n",
       "      <td>SPO</td>\n",
       "    </tr>\n",
       "    <tr>\n",
       "      <th>92858</th>\n",
       "      <td>100342</td>\n",
       "      <td>312</td>\n",
       "      <td>201745</td>\n",
       "      <td>2017-11-05</td>\n",
       "      <td>-1</td>\n",
       "      <td>fisica</td>\n",
       "      <td>br</td>\n",
       "      <td>M</td>\n",
       "      <td>SUL</td>\n",
       "    </tr>\n",
       "    <tr>\n",
       "      <th>92875</th>\n",
       "      <td>100342</td>\n",
       "      <td>163</td>\n",
       "      <td>201950</td>\n",
       "      <td>2019-12-15</td>\n",
       "      <td>-1</td>\n",
       "      <td>fisica</td>\n",
       "      <td>br</td>\n",
       "      <td>M</td>\n",
       "      <td>SPO</td>\n",
       "    </tr>\n",
       "  </tbody>\n",
       "</table>\n",
       "<p>520 rows × 9 columns</p>\n",
       "</div>"
      ],
      "text/plain": [
       "         item  cod_loja  semana_comercial data_semana_comercial  venda  \\\n",
       "900    100342        12            201743            2017-10-22     -1   \n",
       "1596   100342       321            201943            2019-10-27     -2   \n",
       "1791   100342       270            202007            2020-02-16     -1   \n",
       "1837   100342       273            202138            2021-09-19     -2   \n",
       "1983   100342       111            202203            2022-01-16     -1   \n",
       "...       ...       ...               ...                   ...    ...   \n",
       "92827  100342        58            202001            2020-01-05     -1   \n",
       "92846  100342       323            202145            2021-11-07     -1   \n",
       "92850  100342       171            201826            2018-07-01     -1   \n",
       "92858  100342       312            201745            2017-11-05     -1   \n",
       "92875  100342       163            201950            2019-12-15     -1   \n",
       "\n",
       "      categoria_loja localidade loja_tamanho clima  \n",
       "900           fisica         br            G   SUL  \n",
       "1596          fisica         br            P   SPO  \n",
       "1791          fisica         br            M   SUL  \n",
       "1837          fisica         br            P   RIO  \n",
       "1983          fisica         br            M   RIO  \n",
       "...              ...        ...          ...   ...  \n",
       "92827         fisica         br            G   RIO  \n",
       "92846         fisica         br            P   NOR  \n",
       "92850         fisica         br            P   SPO  \n",
       "92858         fisica         br            M   SUL  \n",
       "92875         fisica         br            M   SPO  \n",
       "\n",
       "[520 rows x 9 columns]"
      ]
     },
     "execution_count": 63,
     "metadata": {},
     "output_type": "execute_result"
    }
   ],
   "source": [
    "df[df['venda'] < 0]"
   ]
  },
  {
   "cell_type": "code",
   "execution_count": 64,
   "metadata": {},
   "outputs": [
    {
     "data": {
      "image/png": "[encoded data removed]",
      "text/plain": [
       "<Figure size 640x480 with 1 Axes>"
      ]
     },
     "metadata": {},
     "output_type": "display_data"
    }
   ],
   "source": [
    "sns.boxplot(x=df['venda'])\n",
    "plt.show()"
   ]
  },
  {
   "attachments": {},
   "cell_type": "markdown",
   "metadata": {},
   "source": [
    "## Insights/anotações iniciais\n",
    "\n",
    "\n",
    "*   Sem dados nulos, faltantes ou duplicados;\n",
    "*   Colunas desnecessárias para o treinamento (dropar): Item, semana_comercial (recomendação do Hollisson);\n",
    "*   Garantir que exista 1 linha por item, loja e data_semana_comercial (recomendação do Hollisson);\n",
    "*   Possuimos somente duas lojas web, mas mesmo assim a quantidade de venda é muito maior do que a venda nas lojas físicas. Talvez, seja interessante separar modelos diferentes para cada tipo de loja;\n",
    "*   Lojas web: cod 406 e 407 - todas tem: localidade = br, tamanho = gg, clima = w\n",
    "*   Temos linhas com a quantidade de venda negativa (520 de 92877), fazer o tratamento;\n"
   ]
  },
  {
   "attachments": {},
   "cell_type": "markdown",
   "metadata": {},
   "source": [
    "# Tratamentos inicias\n",
    "1 - Dropar colunas desnecessárias: 'item', 'semana_comercial' <br>\n",
    "2 - Removendo linhas com vendas 'GS' (Guide Shop)<br>\n",
    "3 - Alterar valores negativos de venda para zero (verificar onde os zeros estao distribuidos no dataset)<br>\n",
    "4 - Alterar variaveis categóricas para variaveis numéricas<br>\n",
    "5 - Transformar 'data_semana_comercial' para datetime e colocar como índice<br>\n",
    "--------------------------------------------------------------------------------------<br>\n",
    "4 - Tratar linhas duplicadas após dropar 'semana_comercial' (Garantir uma linha por item, loja e data_semana_comercial)<br>\n",
    "7 - Separar entre dataset de treino para loja fisica e web<br>\n",
    "8 - Dropas colunas desnecessárias para o dataset web<br>"
   ]
  },
  {
   "cell_type": "code",
   "execution_count": 92,
   "metadata": {},
   "outputs": [
    {
     "data": {
      "text/html": [
       "<div>\n",
       "<style scoped>\n",
       "    .dataframe tbody tr th:only-of-type {\n",
       "        vertical-align: middle;\n",
       "    }\n",
       "\n",
       "    .dataframe tbody tr th {\n",
       "        vertical-align: top;\n",
       "    }\n",
       "\n",
       "    .dataframe thead th {\n",
       "        text-align: right;\n",
       "    }\n",
       "</style>\n",
       "<table border=\"1\" class=\"dataframe\">\n",
       "  <thead>\n",
       "    <tr style=\"text-align: right;\">\n",
       "      <th></th>\n",
       "      <th>cod_loja</th>\n",
       "      <th>data_semana_comercial</th>\n",
       "      <th>venda</th>\n",
       "      <th>categoria_loja</th>\n",
       "      <th>localidade</th>\n",
       "      <th>loja_tamanho</th>\n",
       "      <th>clima</th>\n",
       "    </tr>\n",
       "  </thead>\n",
       "  <tbody>\n",
       "    <tr>\n",
       "      <th>0</th>\n",
       "      <td>58</td>\n",
       "      <td>2021-07-25</td>\n",
       "      <td>51</td>\n",
       "      <td>fisica</td>\n",
       "      <td>br</td>\n",
       "      <td>G</td>\n",
       "      <td>RIO</td>\n",
       "    </tr>\n",
       "    <tr>\n",
       "      <th>1</th>\n",
       "      <td>63</td>\n",
       "      <td>2022-05-22</td>\n",
       "      <td>86</td>\n",
       "      <td>fisica</td>\n",
       "      <td>br</td>\n",
       "      <td>G</td>\n",
       "      <td>RIO</td>\n",
       "    </tr>\n",
       "    <tr>\n",
       "      <th>2</th>\n",
       "      <td>84</td>\n",
       "      <td>2021-08-01</td>\n",
       "      <td>62</td>\n",
       "      <td>fisica</td>\n",
       "      <td>br</td>\n",
       "      <td>G</td>\n",
       "      <td>RIO</td>\n",
       "    </tr>\n",
       "    <tr>\n",
       "      <th>3</th>\n",
       "      <td>2</td>\n",
       "      <td>2022-05-29</td>\n",
       "      <td>171</td>\n",
       "      <td>fisica</td>\n",
       "      <td>br</td>\n",
       "      <td>G</td>\n",
       "      <td>SUL</td>\n",
       "    </tr>\n",
       "    <tr>\n",
       "      <th>4</th>\n",
       "      <td>407</td>\n",
       "      <td>2022-06-05</td>\n",
       "      <td>188</td>\n",
       "      <td>web</td>\n",
       "      <td>br</td>\n",
       "      <td>GG</td>\n",
       "      <td>W</td>\n",
       "    </tr>\n",
       "  </tbody>\n",
       "</table>\n",
       "</div>"
      ],
      "text/plain": [
       "   cod_loja data_semana_comercial  venda categoria_loja localidade  \\\n",
       "0        58            2021-07-25     51         fisica         br   \n",
       "1        63            2022-05-22     86         fisica         br   \n",
       "2        84            2021-08-01     62         fisica         br   \n",
       "3         2            2022-05-29    171         fisica         br   \n",
       "4       407            2022-06-05    188            web         br   \n",
       "\n",
       "  loja_tamanho clima  \n",
       "0            G   RIO  \n",
       "1            G   RIO  \n",
       "2            G   RIO  \n",
       "3            G   SUL  \n",
       "4           GG     W  "
      ]
     },
     "execution_count": 92,
     "metadata": {},
     "output_type": "execute_result"
    }
   ],
   "source": [
    "#1\n",
    "df.drop(['item', 'semana_comercial'], axis=1, inplace=True)\n",
    "df.head()"
   ]
  },
  {
   "cell_type": "code",
   "execution_count": 93,
   "metadata": {},
   "outputs": [
    {
     "data": {
      "text/plain": [
       "(92814, 7)"
      ]
     },
     "execution_count": 93,
     "metadata": {},
     "output_type": "execute_result"
    }
   ],
   "source": [
    "#2\n",
    "df = df.loc[df['clima'] != 'GS']\n",
    "df.shape"
   ]
  },
  {
   "cell_type": "code",
   "execution_count": 94,
   "metadata": {},
   "outputs": [],
   "source": [
    "#3\n",
    "df.loc[df.venda < 0, 'venda'] = 0"
   ]
  },
  {
   "cell_type": "code",
   "execution_count": 112,
   "metadata": {},
   "outputs": [],
   "source": [
    "zero = df[df['venda'] == 0]"
   ]
  },
  {
   "cell_type": "code",
   "execution_count": 115,
   "metadata": {},
   "outputs": [
    {
     "data": {
      "text/plain": [
       "2    1032\n",
       "1       7\n",
       "0       1\n",
       "Name: localidade, dtype: int64"
      ]
     },
     "execution_count": 115,
     "metadata": {},
     "output_type": "execute_result"
    }
   ],
   "source": [
    "zero['localidade'].value_counts()"
   ]
  },
  {
   "cell_type": "code",
   "execution_count": 113,
   "metadata": {},
   "outputs": [
    {
     "data": {
      "text/plain": [
       "<seaborn.axisgrid.FacetGrid at 0x2315b2f4130>"
      ]
     },
     "execution_count": 113,
     "metadata": {},
     "output_type": "execute_result"
    },
    {
     "data": {
      "image/png": "[encoded data removed]",
      "text/plain": [
       "<Figure size 558.75x500 with 1 Axes>"
      ]
     },
     "metadata": {},
     "output_type": "display_data"
    }
   ],
   "source": [
    "sns.displot(zero, x=\"localidade\", hue=\"venda\")"
   ]
  },
  {
   "cell_type": "code",
   "execution_count": 119,
   "metadata": {},
   "outputs": [
    {
     "ename": "ValueError",
     "evalue": "Unable to parse string \"W\" at position 859",
     "output_type": "error",
     "traceback": [
      "\u001b[1;31m---------------------------------------------------------------------------\u001b[0m",
      "\u001b[1;31mValueError\u001b[0m                                Traceback (most recent call last)",
      "File \u001b[1;32mc:\\Users\\l.gomes00\\AppData\\Local\\Programs\\Python\\Python310\\lib\\site-packages\\pandas\\_libs\\lib.pyx:2363\u001b[0m, in \u001b[0;36mpandas._libs.lib.maybe_convert_numeric\u001b[1;34m()\u001b[0m\n",
      "\u001b[1;31mValueError\u001b[0m: Unable to parse string \"W\"",
      "\nDuring handling of the above exception, another exception occurred:\n",
      "\u001b[1;31mValueError\u001b[0m                                Traceback (most recent call last)",
      "Cell \u001b[1;32mIn[119], line 1\u001b[0m\n\u001b[1;32m----> 1\u001b[0m sns\u001b[39m.\u001b[39;49mdisplot(zero, x\u001b[39m=\u001b[39;49m\u001b[39m\"\u001b[39;49m\u001b[39mclima\u001b[39;49m\u001b[39m\"\u001b[39;49m, hue\u001b[39m=\u001b[39;49m\u001b[39m\"\u001b[39;49m\u001b[39mvenda\u001b[39;49m\u001b[39m\"\u001b[39;49m)\n",
      "File \u001b[1;32mc:\\Users\\l.gomes00\\AppData\\Local\\Programs\\Python\\Python310\\lib\\site-packages\\seaborn\\distributions.py:2210\u001b[0m, in \u001b[0;36mdisplot\u001b[1;34m(data, x, y, hue, row, col, weights, kind, rug, rug_kws, log_scale, legend, palette, hue_order, hue_norm, color, col_wrap, row_order, col_order, height, aspect, facet_kws, **kwargs)\u001b[0m\n\u001b[0;32m   2207\u001b[0m \u001b[39mif\u001b[39;00m p\u001b[39m.\u001b[39munivariate:\n\u001b[0;32m   2209\u001b[0m     _assign_default_kwargs(hist_kws, p\u001b[39m.\u001b[39mplot_univariate_histogram, histplot)\n\u001b[1;32m-> 2210\u001b[0m     p\u001b[39m.\u001b[39mplot_univariate_histogram(\u001b[39m*\u001b[39m\u001b[39m*\u001b[39mhist_kws)\n\u001b[0;32m   2212\u001b[0m \u001b[39melse\u001b[39;00m:\n\u001b[0;32m   2214\u001b[0m     _assign_default_kwargs(hist_kws, p\u001b[39m.\u001b[39mplot_bivariate_histogram, histplot)\n",
      "File \u001b[1;32mc:\\Users\\l.gomes00\\AppData\\Local\\Programs\\Python\\Python310\\lib\\site-packages\\seaborn\\distributions.py:430\u001b[0m, in \u001b[0;36m_DistributionPlotter.plot_univariate_histogram\u001b[1;34m(self, multiple, element, fill, common_norm, common_bins, shrink, kde, kde_kws, color, legend, line_kws, estimate_kws, **plot_kws)\u001b[0m\n\u001b[0;32m    427\u001b[0m histograms \u001b[39m=\u001b[39m {}\n\u001b[0;32m    429\u001b[0m \u001b[39m# Do pre-compute housekeeping related to multiple groups\u001b[39;00m\n\u001b[1;32m--> 430\u001b[0m all_data \u001b[39m=\u001b[39m \u001b[39mself\u001b[39;49m\u001b[39m.\u001b[39;49mcomp_data\u001b[39m.\u001b[39mdropna()\n\u001b[0;32m    431\u001b[0m all_weights \u001b[39m=\u001b[39m all_data\u001b[39m.\u001b[39mget(\u001b[39m\"\u001b[39m\u001b[39mweights\u001b[39m\u001b[39m\"\u001b[39m, \u001b[39mNone\u001b[39;00m)\n\u001b[0;32m    433\u001b[0m multiple_histograms \u001b[39m=\u001b[39m \u001b[39mset\u001b[39m(\u001b[39mself\u001b[39m\u001b[39m.\u001b[39mvariables) \u001b[39m-\u001b[39m {\u001b[39m\"\u001b[39m\u001b[39mx\u001b[39m\u001b[39m\"\u001b[39m, \u001b[39m\"\u001b[39m\u001b[39my\u001b[39m\u001b[39m\"\u001b[39m}\n",
      "File \u001b[1;32mc:\\Users\\l.gomes00\\AppData\\Local\\Programs\\Python\\Python310\\lib\\site-packages\\seaborn\\_oldcore.py:1126\u001b[0m, in \u001b[0;36mVectorPlotter.comp_data\u001b[1;34m(self)\u001b[0m\n\u001b[0;32m   1121\u001b[0m     \u001b[39mif\u001b[39;00m var \u001b[39min\u001b[39;00m \u001b[39mself\u001b[39m\u001b[39m.\u001b[39mvar_levels:\n\u001b[0;32m   1122\u001b[0m         \u001b[39m# TODO this should happen in some centralized location\u001b[39;00m\n\u001b[0;32m   1123\u001b[0m         \u001b[39m# it is similar to GH2419, but more complicated because\u001b[39;00m\n\u001b[0;32m   1124\u001b[0m         \u001b[39m# supporting `order` in categorical plots is tricky\u001b[39;00m\n\u001b[0;32m   1125\u001b[0m         orig \u001b[39m=\u001b[39m orig[orig\u001b[39m.\u001b[39misin(\u001b[39mself\u001b[39m\u001b[39m.\u001b[39mvar_levels[var])]\n\u001b[1;32m-> 1126\u001b[0m comp \u001b[39m=\u001b[39m pd\u001b[39m.\u001b[39;49mto_numeric(converter\u001b[39m.\u001b[39;49mconvert_units(orig))\n\u001b[0;32m   1127\u001b[0m \u001b[39mif\u001b[39;00m converter\u001b[39m.\u001b[39mget_scale() \u001b[39m==\u001b[39m \u001b[39m\"\u001b[39m\u001b[39mlog\u001b[39m\u001b[39m\"\u001b[39m:\n\u001b[0;32m   1128\u001b[0m     comp \u001b[39m=\u001b[39m np\u001b[39m.\u001b[39mlog10(comp)\n",
      "File \u001b[1;32mc:\\Users\\l.gomes00\\AppData\\Local\\Programs\\Python\\Python310\\lib\\site-packages\\pandas\\core\\tools\\numeric.py:185\u001b[0m, in \u001b[0;36mto_numeric\u001b[1;34m(arg, errors, downcast)\u001b[0m\n\u001b[0;32m    183\u001b[0m coerce_numeric \u001b[39m=\u001b[39m errors \u001b[39mnot\u001b[39;00m \u001b[39min\u001b[39;00m (\u001b[39m\"\u001b[39m\u001b[39mignore\u001b[39m\u001b[39m\"\u001b[39m, \u001b[39m\"\u001b[39m\u001b[39mraise\u001b[39m\u001b[39m\"\u001b[39m)\n\u001b[0;32m    184\u001b[0m \u001b[39mtry\u001b[39;00m:\n\u001b[1;32m--> 185\u001b[0m     values, _ \u001b[39m=\u001b[39m lib\u001b[39m.\u001b[39;49mmaybe_convert_numeric(\n\u001b[0;32m    186\u001b[0m         values, \u001b[39mset\u001b[39;49m(), coerce_numeric\u001b[39m=\u001b[39;49mcoerce_numeric\n\u001b[0;32m    187\u001b[0m     )\n\u001b[0;32m    188\u001b[0m \u001b[39mexcept\u001b[39;00m (\u001b[39mValueError\u001b[39;00m, \u001b[39mTypeError\u001b[39;00m):\n\u001b[0;32m    189\u001b[0m     \u001b[39mif\u001b[39;00m errors \u001b[39m==\u001b[39m \u001b[39m\"\u001b[39m\u001b[39mraise\u001b[39m\u001b[39m\"\u001b[39m:\n",
      "File \u001b[1;32mc:\\Users\\l.gomes00\\AppData\\Local\\Programs\\Python\\Python310\\lib\\site-packages\\pandas\\_libs\\lib.pyx:2405\u001b[0m, in \u001b[0;36mpandas._libs.lib.maybe_convert_numeric\u001b[1;34m()\u001b[0m\n",
      "\u001b[1;31mValueError\u001b[0m: Unable to parse string \"W\" at position 859"
     ]
    },
    {
     "data": {
      "image/png": "[encoded data removed]",
      "text/plain": [
       "<Figure size 500x500 with 1 Axes>"
      ]
     },
     "metadata": {},
     "output_type": "display_data"
    }
   ],
   "source": [
    "sns.displot(zero, x=\"clima\", hue=\"venda\")"
   ]
  },
  {
   "cell_type": "code",
   "execution_count": 96,
   "metadata": {},
   "outputs": [],
   "source": [
    "#4\n",
    "df['localidade'] = df['localidade'].map({ 'br':2, 'uy':1, 'ar':0 })\n",
    "df['loja_tamanho'] = df['loja_tamanho'].map({ 'PP':0, 'P':1, 'M':2, 'G':3, 'GG':4 })\n",
    "df['clima'] = df['clima'].map({ 'SPO':5, 'RIO':4, 'NOR':3, 'SUL':2 ,'URU':1 ,'ARG': 0, 'W':'W'})"
   ]
  },
  {
   "cell_type": "code",
   "execution_count": 99,
   "metadata": {},
   "outputs": [],
   "source": [
    "#5\n",
    "date = pd.to_datetime(df['data_semana_comercial'])\n",
    "df.index = date"
   ]
  },
  {
   "cell_type": "code",
   "execution_count": 101,
   "metadata": {},
   "outputs": [
    {
     "data": {
      "text/html": [
       "<div>\n",
       "<style scoped>\n",
       "    .dataframe tbody tr th:only-of-type {\n",
       "        vertical-align: middle;\n",
       "    }\n",
       "\n",
       "    .dataframe tbody tr th {\n",
       "        vertical-align: top;\n",
       "    }\n",
       "\n",
       "    .dataframe thead th {\n",
       "        text-align: right;\n",
       "    }\n",
       "</style>\n",
       "<table border=\"1\" class=\"dataframe\">\n",
       "  <thead>\n",
       "    <tr style=\"text-align: right;\">\n",
       "      <th></th>\n",
       "      <th>cod_loja</th>\n",
       "      <th>data_semana_comercial</th>\n",
       "      <th>venda</th>\n",
       "      <th>categoria_loja</th>\n",
       "      <th>localidade</th>\n",
       "      <th>loja_tamanho</th>\n",
       "      <th>clima</th>\n",
       "    </tr>\n",
       "    <tr>\n",
       "      <th>data_semana_comercial</th>\n",
       "      <th></th>\n",
       "      <th></th>\n",
       "      <th></th>\n",
       "      <th></th>\n",
       "      <th></th>\n",
       "      <th></th>\n",
       "      <th></th>\n",
       "    </tr>\n",
       "  </thead>\n",
       "  <tbody>\n",
       "    <tr>\n",
       "      <th>2021-07-25</th>\n",
       "      <td>58</td>\n",
       "      <td>2021-07-25</td>\n",
       "      <td>51</td>\n",
       "      <td>fisica</td>\n",
       "      <td>2</td>\n",
       "      <td>3</td>\n",
       "      <td>4</td>\n",
       "    </tr>\n",
       "    <tr>\n",
       "      <th>2022-05-22</th>\n",
       "      <td>63</td>\n",
       "      <td>2022-05-22</td>\n",
       "      <td>86</td>\n",
       "      <td>fisica</td>\n",
       "      <td>2</td>\n",
       "      <td>3</td>\n",
       "      <td>4</td>\n",
       "    </tr>\n",
       "    <tr>\n",
       "      <th>2021-08-01</th>\n",
       "      <td>84</td>\n",
       "      <td>2021-08-01</td>\n",
       "      <td>62</td>\n",
       "      <td>fisica</td>\n",
       "      <td>2</td>\n",
       "      <td>3</td>\n",
       "      <td>4</td>\n",
       "    </tr>\n",
       "    <tr>\n",
       "      <th>2022-05-29</th>\n",
       "      <td>2</td>\n",
       "      <td>2022-05-29</td>\n",
       "      <td>171</td>\n",
       "      <td>fisica</td>\n",
       "      <td>2</td>\n",
       "      <td>3</td>\n",
       "      <td>2</td>\n",
       "    </tr>\n",
       "    <tr>\n",
       "      <th>2022-06-05</th>\n",
       "      <td>407</td>\n",
       "      <td>2022-06-05</td>\n",
       "      <td>188</td>\n",
       "      <td>web</td>\n",
       "      <td>2</td>\n",
       "      <td>4</td>\n",
       "      <td>W</td>\n",
       "    </tr>\n",
       "  </tbody>\n",
       "</table>\n",
       "</div>"
      ],
      "text/plain": [
       "                       cod_loja data_semana_comercial  venda categoria_loja  \\\n",
       "data_semana_comercial                                                         \n",
       "2021-07-25                   58            2021-07-25     51         fisica   \n",
       "2022-05-22                   63            2022-05-22     86         fisica   \n",
       "2021-08-01                   84            2021-08-01     62         fisica   \n",
       "2022-05-29                    2            2022-05-29    171         fisica   \n",
       "2022-06-05                  407            2022-06-05    188            web   \n",
       "\n",
       "                       localidade  loja_tamanho clima  \n",
       "data_semana_comercial                                  \n",
       "2021-07-25                      2             3     4  \n",
       "2022-05-22                      2             3     4  \n",
       "2021-08-01                      2             3     4  \n",
       "2022-05-29                      2             3     2  \n",
       "2022-06-05                      2             4     W  "
      ]
     },
     "execution_count": 101,
     "metadata": {},
     "output_type": "execute_result"
    }
   ],
   "source": [
    "df.head()"
   ]
  },
  {
   "cell_type": "code",
   "execution_count": null,
   "metadata": {},
   "outputs": [],
   "source": []
  },
  {
   "cell_type": "code",
   "execution_count": null,
   "metadata": {},
   "outputs": [],
   "source": []
  },
  {
   "cell_type": "code",
   "execution_count": null,
   "metadata": {},
   "outputs": [],
   "source": []
  },
  {
   "cell_type": "code",
   "execution_count": null,
   "metadata": {},
   "outputs": [],
   "source": []
  },
  {
   "cell_type": "code",
   "execution_count": null,
   "metadata": {},
   "outputs": [],
   "source": []
  },
  {
   "cell_type": "code",
   "execution_count": 76,
   "metadata": {},
   "outputs": [],
   "source": [
    "df_agrupado = df.groupby('data_semana_comercial').agg(\n",
    "                                                    {'venda': 'sum', \n",
    "                                                    'cod_loja': 'first', \n",
    "                                                    'categoria_loja': 'first', \n",
    "                                                    'localidade': 'first', \n",
    "                                                    'loja_tamanho': 'first', \n",
    "                                                    'clima': 'first'}).reset_index()"
   ]
  },
  {
   "cell_type": "code",
   "execution_count": 78,
   "metadata": {},
   "outputs": [
    {
     "data": {
      "text/html": [
       "<div>\n",
       "<style scoped>\n",
       "    .dataframe tbody tr th:only-of-type {\n",
       "        vertical-align: middle;\n",
       "    }\n",
       "\n",
       "    .dataframe tbody tr th {\n",
       "        vertical-align: top;\n",
       "    }\n",
       "\n",
       "    .dataframe thead th {\n",
       "        text-align: right;\n",
       "    }\n",
       "</style>\n",
       "<table border=\"1\" class=\"dataframe\">\n",
       "  <thead>\n",
       "    <tr style=\"text-align: right;\">\n",
       "      <th></th>\n",
       "      <th>data_semana_comercial</th>\n",
       "      <th>venda</th>\n",
       "      <th>cod_loja</th>\n",
       "      <th>categoria_loja</th>\n",
       "      <th>localidade</th>\n",
       "      <th>loja_tamanho</th>\n",
       "      <th>clima</th>\n",
       "    </tr>\n",
       "  </thead>\n",
       "  <tbody>\n",
       "    <tr>\n",
       "      <th>0</th>\n",
       "      <td>2017-01-01</td>\n",
       "      <td>384</td>\n",
       "      <td>47</td>\n",
       "      <td>fisica</td>\n",
       "      <td>br</td>\n",
       "      <td>M</td>\n",
       "      <td>SPO</td>\n",
       "    </tr>\n",
       "    <tr>\n",
       "      <th>1</th>\n",
       "      <td>2017-01-08</td>\n",
       "      <td>344</td>\n",
       "      <td>150</td>\n",
       "      <td>fisica</td>\n",
       "      <td>br</td>\n",
       "      <td>G</td>\n",
       "      <td>RIO</td>\n",
       "    </tr>\n",
       "    <tr>\n",
       "      <th>2</th>\n",
       "      <td>2017-01-15</td>\n",
       "      <td>289</td>\n",
       "      <td>132</td>\n",
       "      <td>fisica</td>\n",
       "      <td>br</td>\n",
       "      <td>P</td>\n",
       "      <td>SUL</td>\n",
       "    </tr>\n",
       "    <tr>\n",
       "      <th>3</th>\n",
       "      <td>2017-01-22</td>\n",
       "      <td>305</td>\n",
       "      <td>43</td>\n",
       "      <td>fisica</td>\n",
       "      <td>br</td>\n",
       "      <td>M</td>\n",
       "      <td>SPO</td>\n",
       "    </tr>\n",
       "    <tr>\n",
       "      <th>4</th>\n",
       "      <td>2017-01-29</td>\n",
       "      <td>848</td>\n",
       "      <td>67</td>\n",
       "      <td>fisica</td>\n",
       "      <td>br</td>\n",
       "      <td>M</td>\n",
       "      <td>SUL</td>\n",
       "    </tr>\n",
       "  </tbody>\n",
       "</table>\n",
       "</div>"
      ],
      "text/plain": [
       "  data_semana_comercial  venda  cod_loja categoria_loja localidade  \\\n",
       "0            2017-01-01    384        47         fisica         br   \n",
       "1            2017-01-08    344       150         fisica         br   \n",
       "2            2017-01-15    289       132         fisica         br   \n",
       "3            2017-01-22    305        43         fisica         br   \n",
       "4            2017-01-29    848        67         fisica         br   \n",
       "\n",
       "  loja_tamanho clima  \n",
       "0            M   SPO  \n",
       "1            G   RIO  \n",
       "2            P   SUL  \n",
       "3            M   SPO  \n",
       "4            M   SUL  "
      ]
     },
     "execution_count": 78,
     "metadata": {},
     "output_type": "execute_result"
    }
   ],
   "source": [
    "df_agrupado.head()"
   ]
  },
  {
   "cell_type": "code",
   "execution_count": 81,
   "metadata": {},
   "outputs": [
    {
     "data": {
      "text/plain": [
       "(295, 7)"
      ]
     },
     "execution_count": 81,
     "metadata": {},
     "output_type": "execute_result"
    }
   ],
   "source": [
    "df_agrupado.shape"
   ]
  }
 ],
 "metadata": {
  "kernelspec": {
   "display_name": "Python 3",
   "language": "python",
   "name": "python3"
  },
  "language_info": {
   "codemirror_mode": {
    "name": "ipython",
    "version": 3
   },
   "file_extension": ".py",
   "mimetype": "text/x-python",
   "name": "python",
   "nbconvert_exporter": "python",
   "pygments_lexer": "ipython3",
   "version": "3.10.9"
  },
  "orig_nbformat": 4
 },
 "nbformat": 4,
 "nbformat_minor": 2
}
