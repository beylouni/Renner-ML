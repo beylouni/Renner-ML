{
 "cells": [
  {
   "cell_type": "code",
   "execution_count": 26,
   "metadata": {},
   "outputs": [],
   "source": [
    "import pandas as pd\n",
    "import numpy as np\n",
    "import sklearn as sk\n",
    "import seaborn as sb\n",
    "from scipy import stats"
   ]
  },
  {
   "cell_type": "code",
   "execution_count": 36,
   "metadata": {},
   "outputs": [],
   "source": [
    "pd.set_option('display.max_rows',500)\n",
    "pd.set_option('display.max_columns',504)\n",
    "pd.set_option('display.width',1000)"
   ]
  },
  {
   "cell_type": "code",
   "execution_count": 23,
   "metadata": {},
   "outputs": [],
   "source": [
    "df = pd.read_csv(r'//Users/lfarias/Desktop/Renner-ML/files/renner_desafio_pucrs_treino.csv')"
   ]
  },
  {
   "cell_type": "code",
   "execution_count": 4,
   "metadata": {},
   "outputs": [
    {
     "data": {
      "text/html": [
       "<div>\n",
       "<style scoped>\n",
       "    .dataframe tbody tr th:only-of-type {\n",
       "        vertical-align: middle;\n",
       "    }\n",
       "\n",
       "    .dataframe tbody tr th {\n",
       "        vertical-align: top;\n",
       "    }\n",
       "\n",
       "    .dataframe thead th {\n",
       "        text-align: right;\n",
       "    }\n",
       "</style>\n",
       "<table border=\"1\" class=\"dataframe\">\n",
       "  <thead>\n",
       "    <tr style=\"text-align: right;\">\n",
       "      <th></th>\n",
       "      <th>item</th>\n",
       "      <th>cod_loja</th>\n",
       "      <th>semana_comercial</th>\n",
       "      <th>data_semana_comercial</th>\n",
       "      <th>venda</th>\n",
       "      <th>categoria_loja</th>\n",
       "      <th>localidade</th>\n",
       "      <th>loja_tamanho</th>\n",
       "      <th>clima</th>\n",
       "    </tr>\n",
       "  </thead>\n",
       "  <tbody>\n",
       "    <tr>\n",
       "      <th>0</th>\n",
       "      <td>100342</td>\n",
       "      <td>58</td>\n",
       "      <td>202130</td>\n",
       "      <td>2021-07-25</td>\n",
       "      <td>51</td>\n",
       "      <td>fisica</td>\n",
       "      <td>br</td>\n",
       "      <td>G</td>\n",
       "      <td>RIO</td>\n",
       "    </tr>\n",
       "    <tr>\n",
       "      <th>1</th>\n",
       "      <td>100342</td>\n",
       "      <td>63</td>\n",
       "      <td>202221</td>\n",
       "      <td>2022-05-22</td>\n",
       "      <td>86</td>\n",
       "      <td>fisica</td>\n",
       "      <td>br</td>\n",
       "      <td>G</td>\n",
       "      <td>RIO</td>\n",
       "    </tr>\n",
       "    <tr>\n",
       "      <th>2</th>\n",
       "      <td>100342</td>\n",
       "      <td>84</td>\n",
       "      <td>202131</td>\n",
       "      <td>2021-08-01</td>\n",
       "      <td>62</td>\n",
       "      <td>fisica</td>\n",
       "      <td>br</td>\n",
       "      <td>G</td>\n",
       "      <td>RIO</td>\n",
       "    </tr>\n",
       "    <tr>\n",
       "      <th>3</th>\n",
       "      <td>100342</td>\n",
       "      <td>2</td>\n",
       "      <td>202222</td>\n",
       "      <td>2022-05-29</td>\n",
       "      <td>171</td>\n",
       "      <td>fisica</td>\n",
       "      <td>br</td>\n",
       "      <td>G</td>\n",
       "      <td>SUL</td>\n",
       "    </tr>\n",
       "    <tr>\n",
       "      <th>4</th>\n",
       "      <td>100342</td>\n",
       "      <td>407</td>\n",
       "      <td>202223</td>\n",
       "      <td>2022-06-05</td>\n",
       "      <td>188</td>\n",
       "      <td>web</td>\n",
       "      <td>br</td>\n",
       "      <td>GG</td>\n",
       "      <td>W</td>\n",
       "    </tr>\n",
       "    <tr>\n",
       "      <th>...</th>\n",
       "      <td>...</td>\n",
       "      <td>...</td>\n",
       "      <td>...</td>\n",
       "      <td>...</td>\n",
       "      <td>...</td>\n",
       "      <td>...</td>\n",
       "      <td>...</td>\n",
       "      <td>...</td>\n",
       "      <td>...</td>\n",
       "    </tr>\n",
       "    <tr>\n",
       "      <th>92872</th>\n",
       "      <td>100342</td>\n",
       "      <td>65</td>\n",
       "      <td>202052</td>\n",
       "      <td>2020-12-27</td>\n",
       "      <td>1</td>\n",
       "      <td>fisica</td>\n",
       "      <td>br</td>\n",
       "      <td>M</td>\n",
       "      <td>SUL</td>\n",
       "    </tr>\n",
       "    <tr>\n",
       "      <th>92873</th>\n",
       "      <td>100342</td>\n",
       "      <td>97</td>\n",
       "      <td>201853</td>\n",
       "      <td>2017-12-31</td>\n",
       "      <td>1</td>\n",
       "      <td>fisica</td>\n",
       "      <td>br</td>\n",
       "      <td>P</td>\n",
       "      <td>NOR</td>\n",
       "    </tr>\n",
       "    <tr>\n",
       "      <th>92874</th>\n",
       "      <td>100342</td>\n",
       "      <td>315</td>\n",
       "      <td>201831</td>\n",
       "      <td>2018-08-05</td>\n",
       "      <td>1</td>\n",
       "      <td>fisica</td>\n",
       "      <td>br</td>\n",
       "      <td>P</td>\n",
       "      <td>NOR</td>\n",
       "    </tr>\n",
       "    <tr>\n",
       "      <th>92875</th>\n",
       "      <td>100342</td>\n",
       "      <td>163</td>\n",
       "      <td>201950</td>\n",
       "      <td>2019-12-15</td>\n",
       "      <td>-1</td>\n",
       "      <td>fisica</td>\n",
       "      <td>br</td>\n",
       "      <td>M</td>\n",
       "      <td>SPO</td>\n",
       "    </tr>\n",
       "    <tr>\n",
       "      <th>92876</th>\n",
       "      <td>100342</td>\n",
       "      <td>168</td>\n",
       "      <td>201747</td>\n",
       "      <td>2017-11-19</td>\n",
       "      <td>1</td>\n",
       "      <td>fisica</td>\n",
       "      <td>br</td>\n",
       "      <td>M</td>\n",
       "      <td>RIO</td>\n",
       "    </tr>\n",
       "  </tbody>\n",
       "</table>\n",
       "<p>92877 rows × 9 columns</p>\n",
       "</div>"
      ],
      "text/plain": [
       "         item  cod_loja  semana_comercial data_semana_comercial  venda  \\\n",
       "0      100342        58            202130            2021-07-25     51   \n",
       "1      100342        63            202221            2022-05-22     86   \n",
       "2      100342        84            202131            2021-08-01     62   \n",
       "3      100342         2            202222            2022-05-29    171   \n",
       "4      100342       407            202223            2022-06-05    188   \n",
       "...       ...       ...               ...                   ...    ...   \n",
       "92872  100342        65            202052            2020-12-27      1   \n",
       "92873  100342        97            201853            2017-12-31      1   \n",
       "92874  100342       315            201831            2018-08-05      1   \n",
       "92875  100342       163            201950            2019-12-15     -1   \n",
       "92876  100342       168            201747            2017-11-19      1   \n",
       "\n",
       "      categoria_loja localidade loja_tamanho clima  \n",
       "0             fisica         br            G   RIO  \n",
       "1             fisica         br            G   RIO  \n",
       "2             fisica         br            G   RIO  \n",
       "3             fisica         br            G   SUL  \n",
       "4                web         br           GG     W  \n",
       "...              ...        ...          ...   ...  \n",
       "92872         fisica         br            M   SUL  \n",
       "92873         fisica         br            P   NOR  \n",
       "92874         fisica         br            P   NOR  \n",
       "92875         fisica         br            M   SPO  \n",
       "92876         fisica         br            M   RIO  \n",
       "\n",
       "[92877 rows x 9 columns]"
      ]
     },
     "execution_count": 4,
     "metadata": {},
     "output_type": "execute_result"
    }
   ],
   "source": [
    "df"
   ]
  },
  {
   "cell_type": "code",
   "execution_count": 5,
   "metadata": {},
   "outputs": [
    {
     "data": {
      "text/plain": [
       "item                     0\n",
       "cod_loja                 0\n",
       "semana_comercial         0\n",
       "data_semana_comercial    0\n",
       "venda                    0\n",
       "categoria_loja           0\n",
       "localidade               0\n",
       "loja_tamanho             0\n",
       "clima                    0\n",
       "dtype: int64"
      ]
     },
     "execution_count": 5,
     "metadata": {},
     "output_type": "execute_result"
    }
   ],
   "source": [
    "df.isna().sum()"
   ]
  },
  {
   "cell_type": "code",
   "execution_count": 6,
   "metadata": {},
   "outputs": [
    {
     "data": {
      "text/html": [
       "<div>\n",
       "<style scoped>\n",
       "    .dataframe tbody tr th:only-of-type {\n",
       "        vertical-align: middle;\n",
       "    }\n",
       "\n",
       "    .dataframe tbody tr th {\n",
       "        vertical-align: top;\n",
       "    }\n",
       "\n",
       "    .dataframe thead th {\n",
       "        text-align: right;\n",
       "    }\n",
       "</style>\n",
       "<table border=\"1\" class=\"dataframe\">\n",
       "  <thead>\n",
       "    <tr style=\"text-align: right;\">\n",
       "      <th></th>\n",
       "      <th>item</th>\n",
       "      <th>cod_loja</th>\n",
       "      <th>semana_comercial</th>\n",
       "      <th>venda</th>\n",
       "    </tr>\n",
       "  </thead>\n",
       "  <tbody>\n",
       "    <tr>\n",
       "      <th>count</th>\n",
       "      <td>92877.0</td>\n",
       "      <td>92877.000000</td>\n",
       "      <td>92877.000000</td>\n",
       "      <td>92877.000000</td>\n",
       "    </tr>\n",
       "    <tr>\n",
       "      <th>mean</th>\n",
       "      <td>100342.0</td>\n",
       "      <td>176.024742</td>\n",
       "      <td>201975.466036</td>\n",
       "      <td>26.485158</td>\n",
       "    </tr>\n",
       "    <tr>\n",
       "      <th>std</th>\n",
       "      <td>0.0</td>\n",
       "      <td>107.675970</td>\n",
       "      <td>163.395399</td>\n",
       "      <td>71.062728</td>\n",
       "    </tr>\n",
       "    <tr>\n",
       "      <th>min</th>\n",
       "      <td>100342.0</td>\n",
       "      <td>1.000000</td>\n",
       "      <td>201701.000000</td>\n",
       "      <td>-4.000000</td>\n",
       "    </tr>\n",
       "    <tr>\n",
       "      <th>25%</th>\n",
       "      <td>100342.0</td>\n",
       "      <td>84.000000</td>\n",
       "      <td>201831.000000</td>\n",
       "      <td>5.000000</td>\n",
       "    </tr>\n",
       "    <tr>\n",
       "      <th>50%</th>\n",
       "      <td>100342.0</td>\n",
       "      <td>170.000000</td>\n",
       "      <td>201951.000000</td>\n",
       "      <td>14.000000</td>\n",
       "    </tr>\n",
       "    <tr>\n",
       "      <th>75%</th>\n",
       "      <td>100342.0</td>\n",
       "      <td>260.000000</td>\n",
       "      <td>202123.000000</td>\n",
       "      <td>30.000000</td>\n",
       "    </tr>\n",
       "    <tr>\n",
       "      <th>max</th>\n",
       "      <td>100342.0</td>\n",
       "      <td>420.000000</td>\n",
       "      <td>202234.000000</td>\n",
       "      <td>5476.000000</td>\n",
       "    </tr>\n",
       "  </tbody>\n",
       "</table>\n",
       "</div>"
      ],
      "text/plain": [
       "           item      cod_loja  semana_comercial         venda\n",
       "count   92877.0  92877.000000      92877.000000  92877.000000\n",
       "mean   100342.0    176.024742     201975.466036     26.485158\n",
       "std         0.0    107.675970        163.395399     71.062728\n",
       "min    100342.0      1.000000     201701.000000     -4.000000\n",
       "25%    100342.0     84.000000     201831.000000      5.000000\n",
       "50%    100342.0    170.000000     201951.000000     14.000000\n",
       "75%    100342.0    260.000000     202123.000000     30.000000\n",
       "max    100342.0    420.000000     202234.000000   5476.000000"
      ]
     },
     "execution_count": 6,
     "metadata": {},
     "output_type": "execute_result"
    }
   ],
   "source": [
    "df.describe()"
   ]
  },
  {
   "cell_type": "code",
   "execution_count": 12,
   "metadata": {},
   "outputs": [
    {
     "name": "stdout",
     "output_type": "stream",
     "text": [
      "-4\n",
      "5476\n"
     ]
    }
   ],
   "source": [
    "print(df['venda'].min())\n",
    "print(df['venda'].max())\n"
   ]
  },
  {
   "cell_type": "code",
   "execution_count": 25,
   "metadata": {},
   "outputs": [
    {
     "data": {
      "image/png": "[encoded data removed]",
      "text/plain": [
       "<Figure size 640x480 with 1 Axes>"
      ]
     },
     "metadata": {},
     "output_type": "display_data"
    }
   ],
   "source": [
    "sb.boxplot(x=df['venda'])\n",
    "plt.show()"
   ]
  },
  {
   "cell_type": "code",
   "execution_count": 33,
   "metadata": {},
   "outputs": [
    {
     "name": "stdout",
     "output_type": "stream",
     "text": [
      "520\n"
     ]
    }
   ],
   "source": [
    "count = (df['venda'] < 0).sum()\n",
    "print(count)\n"
   ]
  },
  {
   "cell_type": "code",
   "execution_count": 37,
   "metadata": {},
   "outputs": [
    {
     "name": "stdout",
     "output_type": "stream",
     "text": [
      "         item  cod_loja  semana_comercial data_semana_comercial  venda categoria_loja localidade loja_tamanho clima\n",
      "29526  100342       406            202022            2020-05-31   5476            web         br           GG     W\n",
      "55049  100342       406            202030            2020-07-26   5362            web         br           GG     W\n",
      "55024  100342       406            202026            2020-06-28   5034            web         br           GG     W\n",
      "52236  100342       406            202027            2020-07-05   4851            web         br           GG     W\n",
      "74410  100342       406            202025            2020-06-21   4833            web         br           GG     W\n",
      "...       ...       ...               ...                   ...    ...            ...        ...          ...   ...\n",
      "46595  100342        81            201851            2018-12-23     -3         fisica         br           PP   NOR\n",
      "8114   100342       119            202042            2020-10-18     -3         fisica         br            M   SUL\n",
      "10820  100342       321            202048            2020-11-29     -4         fisica         br            P   SPO\n",
      "50051  100342       246            202048            2020-11-29     -4         fisica         br            M   RIO\n",
      "79600  100342       236            201950            2019-12-15     -4         fisica         br            M   RIO\n",
      "\n",
      "[92877 rows x 9 columns]\n"
     ]
    }
   ],
   "source": [
    "df_sorted = df.sort_values(by='venda', ascending=False)\n",
    "df_sort = df_sorted.order_by(by='')\n",
    "\n",
    "print(df_sorted)"
   ]
  },
  {
   "cell_type": "code",
   "execution_count": 57,
   "metadata": {},
   "outputs": [
    {
     "name": "stdout",
     "output_type": "stream",
     "text": [
      "206667\n"
     ]
    }
   ],
   "source": [
    "filter_web = df['categoria_loja'] == 'web'\n",
    "df_web = df[filter]\n",
    "\n",
    "sales_sum = df_filtered['venda'].sum()\n",
    "print(sales_sum)"
   ]
  },
  {
   "cell_type": "code",
   "execution_count": null,
   "metadata": {},
   "outputs": [],
   "source": [
    "filter_fis = df['categoria_loja'] == 'fisica'\n",
    "df_web = df[filter]\n",
    "\n",
    "sales_sum = df_filtered['venda'].sum()\n",
    "print(sales_sum)"
   ]
  },
  {
   "cell_type": "code",
   "execution_count": 48,
   "metadata": {},
   "outputs": [
    {
     "name": "stdout",
     "output_type": "stream",
     "text": [
      "92471\n"
     ]
    }
   ],
   "source": [
    "df_physical = df[df['categoria_loja'] == 'fisica']\n",
    "print(len(df_physical.index))\n",
    "# print(df_physical)"
   ]
  },
  {
   "cell_type": "code",
   "execution_count": 46,
   "metadata": {},
   "outputs": [
    {
     "name": "stdout",
     "output_type": "stream",
     "text": [
      "406\n"
     ]
    }
   ],
   "source": [
    "df_web = df[df['categoria_loja'] == 'web']\n",
    "print(len(df_web.index))\n",
    "# print(df_web)"
   ]
  },
  {
   "cell_type": "code",
   "execution_count": 51,
   "metadata": {},
   "outputs": [
    {
     "name": "stdout",
     "output_type": "stream",
     "text": [
      "0.4371372891027918\n"
     ]
    }
   ],
   "source": [
    "pct_web_lojas = len(df_web.index)/len(df.index)*100\n",
    "print(pct_web_lojas)"
   ]
  },
  {
   "cell_type": "code",
   "execution_count": 52,
   "metadata": {},
   "outputs": [
    {
     "name": "stdout",
     "output_type": "stream",
     "text": [
      "99.5628627108972\n"
     ]
    }
   ],
   "source": [
    "pct_fis_lojas = len(df_physical.index)/len(df.index)*100\n",
    "print(pct_fis_lojas)"
   ]
  },
  {
   "cell_type": "code",
   "execution_count": null,
   "metadata": {},
   "outputs": [],
   "source": [
    "pct_web_vendas = len(df_web.index)/len(df.index)*100\n",
    "print(pct_web_lojas)"
   ]
  }
 ],
 "metadata": {
  "kernelspec": {
   "display_name": "Renner",
   "language": "python",
   "name": "python3"
  },
  "language_info": {
   "codemirror_mode": {
    "name": "ipython",
    "version": 3
   },
   "file_extension": ".py",
   "mimetype": "text/x-python",
   "name": "python",
   "nbconvert_exporter": "python",
   "pygments_lexer": "ipython3",
   "version": "3.10.10"
  },
  "orig_nbformat": 4
 },
 "nbformat": 4,
 "nbformat_minor": 2
}
